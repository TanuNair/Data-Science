{
 "cells": [
  {
   "cell_type": "markdown",
   "metadata": {},
   "source": [
    "# Ecommerce POC"
   ]
  },
  {
   "cell_type": "code",
   "execution_count": 5,
   "metadata": {},
   "outputs": [
    {
     "ename": "ModuleNotFoundError",
     "evalue": "No module named 'sklearn.cross_validation'",
     "output_type": "error",
     "traceback": [
      "\u001b[1;31m---------------------------------------------------------------------------\u001b[0m",
      "\u001b[1;31mModuleNotFoundError\u001b[0m                       Traceback (most recent call last)",
      "\u001b[1;32m<ipython-input-5-782c39b04991>\u001b[0m in \u001b[0;36m<module>\u001b[1;34m()\u001b[0m\n\u001b[0;32m     20\u001b[0m \u001b[1;32mimport\u001b[0m \u001b[0mscipy\u001b[0m\u001b[1;33m.\u001b[0m\u001b[0mstats\u001b[0m \u001b[1;32mas\u001b[0m \u001b[0mss\u001b[0m\u001b[1;33m\u001b[0m\u001b[0m\n\u001b[0;32m     21\u001b[0m \u001b[1;32mfrom\u001b[0m \u001b[0msklearn\u001b[0m\u001b[1;33m.\u001b[0m\u001b[0mlinear_model\u001b[0m \u001b[1;32mimport\u001b[0m \u001b[0mLogisticRegression\u001b[0m\u001b[1;33m\u001b[0m\u001b[0m\n\u001b[1;32m---> 22\u001b[1;33m \u001b[1;32mfrom\u001b[0m \u001b[0msklearn\u001b[0m\u001b[1;33m.\u001b[0m\u001b[0mcross_validation\u001b[0m \u001b[1;32mimport\u001b[0m \u001b[0mtrain_test_split\u001b[0m\u001b[1;33m\u001b[0m\u001b[0m\n\u001b[0m\u001b[0;32m     23\u001b[0m \u001b[1;32mfrom\u001b[0m \u001b[0msklearn\u001b[0m\u001b[1;33m.\u001b[0m\u001b[0mmetrics\u001b[0m \u001b[1;32mimport\u001b[0m \u001b[0mconfusion_matrix\u001b[0m\u001b[1;33m,\u001b[0m\u001b[0mclassification_report\u001b[0m\u001b[1;33m\u001b[0m\u001b[0m\n\u001b[0;32m     24\u001b[0m \u001b[0mget_ipython\u001b[0m\u001b[1;33m(\u001b[0m\u001b[1;33m)\u001b[0m\u001b[1;33m.\u001b[0m\u001b[0mrun_line_magic\u001b[0m\u001b[1;33m(\u001b[0m\u001b[1;34m'matplotlib'\u001b[0m\u001b[1;33m,\u001b[0m \u001b[1;34m'inline'\u001b[0m\u001b[1;33m)\u001b[0m\u001b[1;33m\u001b[0m\u001b[0m\n",
      "\u001b[1;31mModuleNotFoundError\u001b[0m: No module named 'sklearn.cross_validation'"
     ]
    }
   ],
   "source": [
    "import pandas as pd\n",
    "import numpy as np\n",
    "import seaborn as sns\n",
    "import math as ma\n",
    "import matplotlib.pyplot as plt\n",
    "from sklearn.decomposition import FactorAnalysis\n",
    "from sklearn.decomposition import PCA\n",
    "from sklearn.preprocessing import LabelEncoder\n",
    "from sklearn.metrics import cohen_kappa_score\n",
    "from sklearn.metrics import mean_absolute_error\n",
    "from sklearn.metrics import roc_curve,auc\n",
    "from sklearn.metrics import roc_auc_score\n",
    "from sklearn.ensemble import RandomForestRegressor\n",
    "from sklearn.metrics import mean_squared_error\n",
    "from sklearn.tree import DecisionTreeClassifier\n",
    "from sklearn.ensemble import RandomForestClassifier\n",
    "from sklearn.svm import SVC\n",
    "from math import sqrt\n",
    "from sklearn import tree\n",
    "import scipy.stats as ss\n",
    "from sklearn.linear_model import LogisticRegression\n",
    "from sklearn.cross_validation import train_test_split\n",
    "from sklearn.metrics import confusion_matrix,classification_report\n",
    "%matplotlib inline"
   ]
  },
  {
   "cell_type": "code",
   "execution_count": 6,
   "metadata": {},
   "outputs": [],
   "source": [
    "Ecom_Data = pd.read_csv(\"C:\\\\Users\\\\Dell 5370\\\\Desktop\\\\0Data Science  Programme Material\\\\Data Science Case Studies\\\\2022 Ecommerce\\\\ecom.csv\")"
   ]
  },
  {
   "cell_type": "code",
   "execution_count": 7,
   "metadata": {},
   "outputs": [
    {
     "data": {
      "text/html": [
       "<div>\n",
       "<style scoped>\n",
       "    .dataframe tbody tr th:only-of-type {\n",
       "        vertical-align: middle;\n",
       "    }\n",
       "\n",
       "    .dataframe tbody tr th {\n",
       "        vertical-align: top;\n",
       "    }\n",
       "\n",
       "    .dataframe thead th {\n",
       "        text-align: right;\n",
       "    }\n",
       "</style>\n",
       "<table border=\"1\" class=\"dataframe\">\n",
       "  <thead>\n",
       "    <tr style=\"text-align: right;\">\n",
       "      <th></th>\n",
       "      <th>Gender</th>\n",
       "      <th>Marital status</th>\n",
       "      <th>age group</th>\n",
       "      <th>Educatuon</th>\n",
       "      <th>income</th>\n",
       "      <th>Job</th>\n",
       "      <th>Area</th>\n",
       "      <th>CBB_9</th>\n",
       "      <th>CBB_10</th>\n",
       "      <th>CBB_11</th>\n",
       "      <th>...</th>\n",
       "      <th>FACT__21</th>\n",
       "      <th>FACT__22</th>\n",
       "      <th>FACT__23</th>\n",
       "      <th>FACT__24</th>\n",
       "      <th>FACT__25</th>\n",
       "      <th>FACT__26</th>\n",
       "      <th>FACT__27</th>\n",
       "      <th>FACT__28</th>\n",
       "      <th>FACT__29</th>\n",
       "      <th>FACT__30</th>\n",
       "    </tr>\n",
       "  </thead>\n",
       "  <tbody>\n",
       "    <tr>\n",
       "      <th>0</th>\n",
       "      <td>Female</td>\n",
       "      <td>Unmarried</td>\n",
       "      <td>36-45</td>\n",
       "      <td>Graduation</td>\n",
       "      <td>Above 80,000</td>\n",
       "      <td>Self Employee</td>\n",
       "      <td>Town</td>\n",
       "      <td>10-Sep</td>\n",
       "      <td>above 5000</td>\n",
       "      <td>cas on delivery</td>\n",
       "      <td>...</td>\n",
       "      <td>neutral</td>\n",
       "      <td>strongly agree</td>\n",
       "      <td>strongly agree</td>\n",
       "      <td>strongly agree</td>\n",
       "      <td>strongly agree</td>\n",
       "      <td>strongly agree</td>\n",
       "      <td>strongly agree</td>\n",
       "      <td>strongly agree</td>\n",
       "      <td>strongly agree</td>\n",
       "      <td>strongly agree</td>\n",
       "    </tr>\n",
       "    <tr>\n",
       "      <th>1</th>\n",
       "      <td>Female</td>\n",
       "      <td>Unmarried</td>\n",
       "      <td>46-55</td>\n",
       "      <td>Graduation</td>\n",
       "      <td>Above 80,000</td>\n",
       "      <td>Self Employee</td>\n",
       "      <td>Urban</td>\n",
       "      <td>10-Sep</td>\n",
       "      <td>above 5000</td>\n",
       "      <td>credit cards</td>\n",
       "      <td>...</td>\n",
       "      <td>strongly agree</td>\n",
       "      <td>agree</td>\n",
       "      <td>strongly agree</td>\n",
       "      <td>agree</td>\n",
       "      <td>strongly agree</td>\n",
       "      <td>agree</td>\n",
       "      <td>strongly agree</td>\n",
       "      <td>agree</td>\n",
       "      <td>strongly agree</td>\n",
       "      <td>agree</td>\n",
       "    </tr>\n",
       "    <tr>\n",
       "      <th>2</th>\n",
       "      <td>Female</td>\n",
       "      <td>Unmarried</td>\n",
       "      <td>46-55</td>\n",
       "      <td>Intermediate/10+2</td>\n",
       "      <td>Above 80,000</td>\n",
       "      <td>Self Employee</td>\n",
       "      <td>Urban</td>\n",
       "      <td>08-Jul</td>\n",
       "      <td>500-1000</td>\n",
       "      <td>cas on delivery</td>\n",
       "      <td>...</td>\n",
       "      <td>neutral</td>\n",
       "      <td>neutral</td>\n",
       "      <td>neutral</td>\n",
       "      <td>neutral</td>\n",
       "      <td>neutral</td>\n",
       "      <td>strongly agree</td>\n",
       "      <td>strongly agree</td>\n",
       "      <td>strongly agree</td>\n",
       "      <td>agree</td>\n",
       "      <td>neutral</td>\n",
       "    </tr>\n",
       "    <tr>\n",
       "      <th>3</th>\n",
       "      <td>Female</td>\n",
       "      <td>Unmarried</td>\n",
       "      <td>46-55</td>\n",
       "      <td>Intermediate/10+2</td>\n",
       "      <td>Above 80,000</td>\n",
       "      <td>Employed</td>\n",
       "      <td>Urban</td>\n",
       "      <td>08-Jul</td>\n",
       "      <td>500-1000</td>\n",
       "      <td>cas on delivery</td>\n",
       "      <td>...</td>\n",
       "      <td>neutral</td>\n",
       "      <td>strongly agree</td>\n",
       "      <td>neutral</td>\n",
       "      <td>neutral</td>\n",
       "      <td>neutral</td>\n",
       "      <td>neutral</td>\n",
       "      <td>strongly agree</td>\n",
       "      <td>neutral</td>\n",
       "      <td>neutral</td>\n",
       "      <td>neutral</td>\n",
       "    </tr>\n",
       "    <tr>\n",
       "      <th>4</th>\n",
       "      <td>Female</td>\n",
       "      <td>Unmarried</td>\n",
       "      <td>46-55</td>\n",
       "      <td>Intermediate/10+2</td>\n",
       "      <td>Above 80,000</td>\n",
       "      <td>Employed</td>\n",
       "      <td>Urban</td>\n",
       "      <td>10-Sep</td>\n",
       "      <td>above 5000</td>\n",
       "      <td>credit cards</td>\n",
       "      <td>...</td>\n",
       "      <td>strongly agree</td>\n",
       "      <td>agree</td>\n",
       "      <td>strongly agree</td>\n",
       "      <td>strongly agree</td>\n",
       "      <td>strongly agree</td>\n",
       "      <td>strongly agree</td>\n",
       "      <td>strongly agree</td>\n",
       "      <td>strongly agree</td>\n",
       "      <td>strongly agree</td>\n",
       "      <td>strongly agree</td>\n",
       "    </tr>\n",
       "  </tbody>\n",
       "</table>\n",
       "<p>5 rows × 43 columns</p>\n",
       "</div>"
      ],
      "text/plain": [
       "   Gender Marital status age group          Educatuon        income  \\\n",
       "0  Female      Unmarried     36-45         Graduation  Above 80,000   \n",
       "1  Female      Unmarried     46-55         Graduation  Above 80,000   \n",
       "2  Female      Unmarried     46-55  Intermediate/10+2  Above 80,000   \n",
       "3  Female      Unmarried     46-55  Intermediate/10+2  Above 80,000   \n",
       "4  Female      Unmarried     46-55  Intermediate/10+2  Above 80,000   \n",
       "\n",
       "             Job   Area   CBB_9      CBB_10           CBB_11       ...        \\\n",
       "0  Self Employee   Town  10-Sep  above 5000  cas on delivery       ...         \n",
       "1  Self Employee  Urban  10-Sep  above 5000     credit cards       ...         \n",
       "2  Self Employee  Urban  08-Jul    500-1000  cas on delivery       ...         \n",
       "3       Employed  Urban  08-Jul    500-1000  cas on delivery       ...         \n",
       "4       Employed  Urban  10-Sep  above 5000     credit cards       ...         \n",
       "\n",
       "         FACT__21        FACT__22        FACT__23        FACT__24  \\\n",
       "0         neutral  strongly agree  strongly agree  strongly agree   \n",
       "1  strongly agree           agree  strongly agree           agree   \n",
       "2         neutral         neutral         neutral         neutral   \n",
       "3         neutral  strongly agree         neutral         neutral   \n",
       "4  strongly agree           agree  strongly agree  strongly agree   \n",
       "\n",
       "         FACT__25        FACT__26        FACT__27        FACT__28  \\\n",
       "0  strongly agree  strongly agree  strongly agree  strongly agree   \n",
       "1  strongly agree           agree  strongly agree           agree   \n",
       "2         neutral  strongly agree  strongly agree  strongly agree   \n",
       "3         neutral         neutral  strongly agree         neutral   \n",
       "4  strongly agree  strongly agree  strongly agree  strongly agree   \n",
       "\n",
       "         FACT__29        FACT__30  \n",
       "0  strongly agree  strongly agree  \n",
       "1  strongly agree           agree  \n",
       "2           agree         neutral  \n",
       "3         neutral         neutral  \n",
       "4  strongly agree  strongly agree  \n",
       "\n",
       "[5 rows x 43 columns]"
      ]
     },
     "execution_count": 7,
     "metadata": {},
     "output_type": "execute_result"
    }
   ],
   "source": [
    "Ecom_Data.head()"
   ]
  },
  {
   "cell_type": "code",
   "execution_count": 9,
   "metadata": {},
   "outputs": [
    {
     "data": {
      "text/plain": [
       "Index(['Gender', 'Marital status', 'age group', 'Educatuon', 'income', 'Job',\n",
       "       'Area', 'CBB_9', 'CBB_10', 'CBB_11', 'CBB_12', 'CBB_13', 'CBB_14',\n",
       "       'FACT__1', 'FACT__2', 'FACT__3', 'FACT__4', 'FACT__5', 'FACT__6',\n",
       "       'FACT__7', 'FACT__8', 'FACT__9', 'FACT__10', 'FACT__11', 'FACT__12',\n",
       "       'FACT__13', 'FACT__14', 'FACT__15', 'FACT__16', 'FACT__17', 'FACT__18',\n",
       "       'FACT__19', 'FACT__20', 'FACT__21', 'FACT__22', 'FACT__23', 'FACT__24',\n",
       "       'FACT__25', 'FACT__26', 'FACT__27', 'FACT__28', 'FACT__29', 'FACT__30'],\n",
       "      dtype='object')"
      ]
     },
     "execution_count": 9,
     "metadata": {},
     "output_type": "execute_result"
    }
   ],
   "source": [
    "Ecom_Data.columns"
   ]
  },
  {
   "cell_type": "code",
   "execution_count": null,
   "metadata": {},
   "outputs": [],
   "source": []
  },
  {
   "cell_type": "code",
   "execution_count": null,
   "metadata": {},
   "outputs": [],
   "source": []
  },
  {
   "cell_type": "code",
   "execution_count": 10,
   "metadata": {},
   "outputs": [
    {
     "data": {
      "text/html": [
       "<div>\n",
       "<style scoped>\n",
       "    .dataframe tbody tr th:only-of-type {\n",
       "        vertical-align: middle;\n",
       "    }\n",
       "\n",
       "    .dataframe tbody tr th {\n",
       "        vertical-align: top;\n",
       "    }\n",
       "\n",
       "    .dataframe thead th {\n",
       "        text-align: right;\n",
       "    }\n",
       "</style>\n",
       "<table border=\"1\" class=\"dataframe\">\n",
       "  <thead>\n",
       "    <tr style=\"text-align: right;\">\n",
       "      <th></th>\n",
       "      <th>Gender</th>\n",
       "      <th>Marital status</th>\n",
       "      <th>age group</th>\n",
       "      <th>Educatuon</th>\n",
       "      <th>income</th>\n",
       "      <th>Job</th>\n",
       "      <th>Area</th>\n",
       "      <th>CBB_9</th>\n",
       "      <th>CBB_10</th>\n",
       "      <th>CBB_11</th>\n",
       "      <th>...</th>\n",
       "      <th>FACT__21</th>\n",
       "      <th>FACT__22</th>\n",
       "      <th>FACT__23</th>\n",
       "      <th>FACT__24</th>\n",
       "      <th>FACT__25</th>\n",
       "      <th>FACT__26</th>\n",
       "      <th>FACT__27</th>\n",
       "      <th>FACT__28</th>\n",
       "      <th>FACT__29</th>\n",
       "      <th>FACT__30</th>\n",
       "    </tr>\n",
       "  </thead>\n",
       "  <tbody>\n",
       "    <tr>\n",
       "      <th>count</th>\n",
       "      <td>727</td>\n",
       "      <td>727</td>\n",
       "      <td>727</td>\n",
       "      <td>727</td>\n",
       "      <td>727</td>\n",
       "      <td>727</td>\n",
       "      <td>727</td>\n",
       "      <td>727</td>\n",
       "      <td>727</td>\n",
       "      <td>727</td>\n",
       "      <td>...</td>\n",
       "      <td>727</td>\n",
       "      <td>727</td>\n",
       "      <td>727</td>\n",
       "      <td>727</td>\n",
       "      <td>727</td>\n",
       "      <td>727</td>\n",
       "      <td>727</td>\n",
       "      <td>727</td>\n",
       "      <td>727</td>\n",
       "      <td>727</td>\n",
       "    </tr>\n",
       "    <tr>\n",
       "      <th>unique</th>\n",
       "      <td>2</td>\n",
       "      <td>2</td>\n",
       "      <td>5</td>\n",
       "      <td>4</td>\n",
       "      <td>4</td>\n",
       "      <td>4</td>\n",
       "      <td>5</td>\n",
       "      <td>5</td>\n",
       "      <td>3</td>\n",
       "      <td>5</td>\n",
       "      <td>...</td>\n",
       "      <td>4</td>\n",
       "      <td>4</td>\n",
       "      <td>4</td>\n",
       "      <td>4</td>\n",
       "      <td>3</td>\n",
       "      <td>4</td>\n",
       "      <td>3</td>\n",
       "      <td>4</td>\n",
       "      <td>4</td>\n",
       "      <td>4</td>\n",
       "    </tr>\n",
       "    <tr>\n",
       "      <th>top</th>\n",
       "      <td>Male</td>\n",
       "      <td>Married</td>\n",
       "      <td>36-45</td>\n",
       "      <td>Post-Graduation</td>\n",
       "      <td>Above 80,000</td>\n",
       "      <td>Employed</td>\n",
       "      <td>Urban</td>\n",
       "      <td>08-Jul</td>\n",
       "      <td>above 5000</td>\n",
       "      <td>credit cards</td>\n",
       "      <td>...</td>\n",
       "      <td>neutral</td>\n",
       "      <td>agree</td>\n",
       "      <td>neutral</td>\n",
       "      <td>neutral</td>\n",
       "      <td>strongly agree</td>\n",
       "      <td>neutral</td>\n",
       "      <td>strongly agree</td>\n",
       "      <td>disagree</td>\n",
       "      <td>neutral</td>\n",
       "      <td>strongly agree</td>\n",
       "    </tr>\n",
       "    <tr>\n",
       "      <th>freq</th>\n",
       "      <td>373</td>\n",
       "      <td>427</td>\n",
       "      <td>235</td>\n",
       "      <td>199</td>\n",
       "      <td>242</td>\n",
       "      <td>254</td>\n",
       "      <td>230</td>\n",
       "      <td>213</td>\n",
       "      <td>592</td>\n",
       "      <td>481</td>\n",
       "      <td>...</td>\n",
       "      <td>326</td>\n",
       "      <td>240</td>\n",
       "      <td>271</td>\n",
       "      <td>340</td>\n",
       "      <td>457</td>\n",
       "      <td>260</td>\n",
       "      <td>693</td>\n",
       "      <td>252</td>\n",
       "      <td>249</td>\n",
       "      <td>402</td>\n",
       "    </tr>\n",
       "  </tbody>\n",
       "</table>\n",
       "<p>4 rows × 43 columns</p>\n",
       "</div>"
      ],
      "text/plain": [
       "       Gender Marital status age group        Educatuon        income  \\\n",
       "count     727            727       727              727           727   \n",
       "unique      2              2         5                4             4   \n",
       "top      Male        Married     36-45  Post-Graduation  Above 80,000   \n",
       "freq      373            427       235              199           242   \n",
       "\n",
       "             Job   Area   CBB_9      CBB_10        CBB_11       ...        \\\n",
       "count        727    727     727         727           727       ...         \n",
       "unique         4      5       5           3             5       ...         \n",
       "top     Employed  Urban  08-Jul  above 5000  credit cards       ...         \n",
       "freq         254    230     213         592           481       ...         \n",
       "\n",
       "       FACT__21 FACT__22 FACT__23 FACT__24        FACT__25 FACT__26  \\\n",
       "count       727      727      727      727             727      727   \n",
       "unique        4        4        4        4               3        4   \n",
       "top     neutral    agree  neutral  neutral  strongly agree  neutral   \n",
       "freq        326      240      271      340             457      260   \n",
       "\n",
       "              FACT__27  FACT__28 FACT__29        FACT__30  \n",
       "count              727       727      727             727  \n",
       "unique               3         4        4               4  \n",
       "top     strongly agree  disagree  neutral  strongly agree  \n",
       "freq               693       252      249             402  \n",
       "\n",
       "[4 rows x 43 columns]"
      ]
     },
     "execution_count": 10,
     "metadata": {},
     "output_type": "execute_result"
    }
   ],
   "source": [
    "Ecom_Data.describe()"
   ]
  },
  {
   "cell_type": "code",
   "execution_count": null,
   "metadata": {},
   "outputs": [],
   "source": []
  },
  {
   "cell_type": "code",
   "execution_count": 12,
   "metadata": {},
   "outputs": [
    {
     "name": "stdout",
     "output_type": "stream",
     "text": [
      "   Gender Marital status age group          Educatuon        income  \\\n",
      "0  Female      Unmarried     36-45         Graduation  Above 80,000   \n",
      "1  Female      Unmarried     46-55         Graduation  Above 80,000   \n",
      "2  Female      Unmarried     46-55  Intermediate/10+2  Above 80,000   \n",
      "3  Female      Unmarried     46-55  Intermediate/10+2  Above 80,000   \n",
      "4  Female      Unmarried     46-55  Intermediate/10+2  Above 80,000   \n",
      "\n",
      "             Job   Area   CBB_9      CBB_10           CBB_11       ...        \\\n",
      "0  Self Employee   Town  10-Sep  above 5000  cas on delivery       ...         \n",
      "1  Self Employee  Urban  10-Sep  above 5000     credit cards       ...         \n",
      "2  Self Employee  Urban  08-Jul    500-1000  cas on delivery       ...         \n",
      "3       Employed  Urban  08-Jul    500-1000  cas on delivery       ...         \n",
      "4       Employed  Urban  10-Sep  above 5000     credit cards       ...         \n",
      "\n",
      "         FACT__21        FACT__22        FACT__23        FACT__24  \\\n",
      "0         neutral  strongly agree  strongly agree  strongly agree   \n",
      "1  strongly agree           agree  strongly agree           agree   \n",
      "2         neutral         neutral         neutral         neutral   \n",
      "3         neutral  strongly agree         neutral         neutral   \n",
      "4  strongly agree           agree  strongly agree  strongly agree   \n",
      "\n",
      "         FACT__25        FACT__26        FACT__27        FACT__28  \\\n",
      "0  strongly agree  strongly agree  strongly agree  strongly agree   \n",
      "1  strongly agree           agree  strongly agree           agree   \n",
      "2         neutral  strongly agree  strongly agree  strongly agree   \n",
      "3         neutral         neutral  strongly agree         neutral   \n",
      "4  strongly agree  strongly agree  strongly agree  strongly agree   \n",
      "\n",
      "         FACT__29        FACT__30  \n",
      "0  strongly agree  strongly agree  \n",
      "1  strongly agree           agree  \n",
      "2           agree         neutral  \n",
      "3         neutral         neutral  \n",
      "4  strongly agree  strongly agree  \n",
      "\n",
      "[5 rows x 43 columns]\n"
     ]
    }
   ],
   "source": [
    "# converting required variables into factors\n",
    "#Since factor columns are already segregated fact1 to fact30.\n",
    "print(Ecom_Data.head())\n",
    "\n"
   ]
  },
  {
   "cell_type": "code",
   "execution_count": 13,
   "metadata": {},
   "outputs": [
    {
     "data": {
      "text/plain": [
       "(727, 43)"
      ]
     },
     "execution_count": 13,
     "metadata": {},
     "output_type": "execute_result"
    }
   ],
   "source": [
    "\n",
    "Ecom_Data.shape"
   ]
  },
  {
   "cell_type": "code",
   "execution_count": 14,
   "metadata": {},
   "outputs": [
    {
     "data": {
      "text/plain": [
       "Gender            0\n",
       "Marital status    0\n",
       "age group         0\n",
       "Educatuon         0\n",
       "income            0\n",
       "Job               0\n",
       "Area              0\n",
       "CBB_9             0\n",
       "CBB_10            0\n",
       "CBB_11            0\n",
       "CBB_12            0\n",
       "CBB_13            0\n",
       "CBB_14            0\n",
       "FACT__1           0\n",
       "FACT__2           0\n",
       "FACT__3           0\n",
       "FACT__4           0\n",
       "FACT__5           0\n",
       "FACT__6           0\n",
       "FACT__7           0\n",
       "FACT__8           0\n",
       "FACT__9           0\n",
       "FACT__10          0\n",
       "FACT__11          0\n",
       "FACT__12          0\n",
       "FACT__13          0\n",
       "FACT__14          0\n",
       "FACT__15          0\n",
       "FACT__16          0\n",
       "FACT__17          8\n",
       "FACT__18          8\n",
       "FACT__19          0\n",
       "FACT__20          0\n",
       "FACT__21          0\n",
       "FACT__22          0\n",
       "FACT__23          0\n",
       "FACT__24          0\n",
       "FACT__25          0\n",
       "FACT__26          0\n",
       "FACT__27          0\n",
       "FACT__28          0\n",
       "FACT__29          0\n",
       "FACT__30          0\n",
       "dtype: int64"
      ]
     },
     "execution_count": 14,
     "metadata": {},
     "output_type": "execute_result"
    }
   ],
   "source": [
    "# creating new data frame\n",
    "Ec_Data = Ecom_Data\n",
    "Ec_Data.isnull().sum()"
   ]
  },
  {
   "cell_type": "code",
   "execution_count": 15,
   "metadata": {},
   "outputs": [
    {
     "data": {
      "text/plain": [
       "Gender            0\n",
       "Marital status    0\n",
       "age group         0\n",
       "Educatuon         0\n",
       "income            0\n",
       "Job               0\n",
       "Area              0\n",
       "CBB_9             0\n",
       "CBB_10            0\n",
       "CBB_11            0\n",
       "CBB_12            0\n",
       "CBB_13            0\n",
       "CBB_14            0\n",
       "FACT__1           0\n",
       "FACT__2           0\n",
       "FACT__3           0\n",
       "FACT__4           0\n",
       "FACT__5           0\n",
       "FACT__6           0\n",
       "FACT__7           0\n",
       "FACT__8           0\n",
       "FACT__9           0\n",
       "FACT__10          0\n",
       "FACT__11          0\n",
       "FACT__12          0\n",
       "FACT__13          0\n",
       "FACT__14          0\n",
       "FACT__15          0\n",
       "FACT__16          0\n",
       "FACT__17          0\n",
       "FACT__18          0\n",
       "FACT__19          0\n",
       "FACT__20          0\n",
       "FACT__21          0\n",
       "FACT__22          0\n",
       "FACT__23          0\n",
       "FACT__24          0\n",
       "FACT__25          0\n",
       "FACT__26          0\n",
       "FACT__27          0\n",
       "FACT__28          0\n",
       "FACT__29          0\n",
       "FACT__30          0\n",
       "dtype: int64"
      ]
     },
     "execution_count": 15,
     "metadata": {},
     "output_type": "execute_result"
    }
   ],
   "source": [
    "# creating another data set\n",
    "Ey_Data = Ecom_Data\n",
    "Ey_Data = Ey_Data.fillna(method='pad')\n",
    "Ey_Data.isnull().sum()"
   ]
  },
  {
   "cell_type": "code",
   "execution_count": 19,
   "metadata": {},
   "outputs": [
    {
     "data": {
      "text/plain": [
       "43"
      ]
     },
     "execution_count": 19,
     "metadata": {},
     "output_type": "execute_result"
    }
   ],
   "source": [
    "# Filling null values with forward or backword fill\n",
    "Ec_Data = Ec_Data.fillna(method='pad')\n",
    "Ec_Data.isnull().sum()\n",
    "y = len(Ec_Data.columns)\n",
    "Ey_Data = Ec_Data\n",
    "y"
   ]
  },
  {
   "cell_type": "code",
   "execution_count": 21,
   "metadata": {},
   "outputs": [
    {
     "name": "stdout",
     "output_type": "stream",
     "text": [
      "its done\n"
     ]
    }
   ],
   "source": [
    "# New code # using label encoder & for loop converting to factors above defined columns\n",
    "lb_make = LabelEncoder()\n",
    "for i in range(y):\n",
    "    Ey_Data[Ec_Data.columns[i]] = lb_make.fit_transform(Ey_Data[Ec_Data.columns[i]])\n",
    "    i+=1\n",
    "print(\"its done\") "
   ]
  },
  {
   "cell_type": "code",
   "execution_count": 22,
   "metadata": {},
   "outputs": [
    {
     "data": {
      "text/plain": [
       "Index(['Gender', 'Marital status', 'age group', 'Educatuon', 'income', 'Job',\n",
       "       'Area', 'CBB_9', 'CBB_10', 'CBB_11', 'CBB_12', 'CBB_13', 'CBB_14',\n",
       "       'FACT__1', 'FACT__2', 'FACT__3', 'FACT__4', 'FACT__5', 'FACT__6',\n",
       "       'FACT__7', 'FACT__8', 'FACT__9', 'FACT__10', 'FACT__11', 'FACT__12',\n",
       "       'FACT__13', 'FACT__14', 'FACT__15', 'FACT__16', 'FACT__17', 'FACT__18',\n",
       "       'FACT__19', 'FACT__20', 'FACT__21', 'FACT__22', 'FACT__23', 'FACT__24',\n",
       "       'FACT__25', 'FACT__26', 'FACT__27', 'FACT__28', 'FACT__29', 'FACT__30'],\n",
       "      dtype='object')"
      ]
     },
     "execution_count": 22,
     "metadata": {},
     "output_type": "execute_result"
    }
   ],
   "source": [
    "Ey_Data.head()\n",
    "Ec_Data.columns"
   ]
  },
  {
   "cell_type": "code",
   "execution_count": 25,
   "metadata": {},
   "outputs": [
    {
     "data": {
      "text/html": [
       "<div>\n",
       "<style scoped>\n",
       "    .dataframe tbody tr th:only-of-type {\n",
       "        vertical-align: middle;\n",
       "    }\n",
       "\n",
       "    .dataframe tbody tr th {\n",
       "        vertical-align: top;\n",
       "    }\n",
       "\n",
       "    .dataframe thead th {\n",
       "        text-align: right;\n",
       "    }\n",
       "</style>\n",
       "<table border=\"1\" class=\"dataframe\">\n",
       "  <thead>\n",
       "    <tr style=\"text-align: right;\">\n",
       "      <th></th>\n",
       "      <th>Gender</th>\n",
       "      <th>Marital status</th>\n",
       "      <th>age group</th>\n",
       "      <th>Educatuon</th>\n",
       "      <th>income</th>\n",
       "      <th>Job</th>\n",
       "      <th>Area</th>\n",
       "      <th>CBB_9</th>\n",
       "      <th>CBB_10</th>\n",
       "      <th>CBB_11</th>\n",
       "      <th>...</th>\n",
       "      <th>FACT__21</th>\n",
       "      <th>FACT__22</th>\n",
       "      <th>FACT__23</th>\n",
       "      <th>FACT__24</th>\n",
       "      <th>FACT__25</th>\n",
       "      <th>FACT__26</th>\n",
       "      <th>FACT__27</th>\n",
       "      <th>FACT__28</th>\n",
       "      <th>FACT__29</th>\n",
       "      <th>FACT__30</th>\n",
       "    </tr>\n",
       "  </thead>\n",
       "  <tbody>\n",
       "    <tr>\n",
       "      <th>0</th>\n",
       "      <td>0</td>\n",
       "      <td>1</td>\n",
       "      <td>1</td>\n",
       "      <td>0</td>\n",
       "      <td>0</td>\n",
       "      <td>3</td>\n",
       "      <td>2</td>\n",
       "      <td>4</td>\n",
       "      <td>2</td>\n",
       "      <td>0</td>\n",
       "      <td>...</td>\n",
       "      <td>2</td>\n",
       "      <td>3</td>\n",
       "      <td>3</td>\n",
       "      <td>3</td>\n",
       "      <td>2</td>\n",
       "      <td>3</td>\n",
       "      <td>2</td>\n",
       "      <td>3</td>\n",
       "      <td>3</td>\n",
       "      <td>3</td>\n",
       "    </tr>\n",
       "    <tr>\n",
       "      <th>1</th>\n",
       "      <td>0</td>\n",
       "      <td>1</td>\n",
       "      <td>2</td>\n",
       "      <td>0</td>\n",
       "      <td>0</td>\n",
       "      <td>3</td>\n",
       "      <td>3</td>\n",
       "      <td>4</td>\n",
       "      <td>2</td>\n",
       "      <td>1</td>\n",
       "      <td>...</td>\n",
       "      <td>3</td>\n",
       "      <td>0</td>\n",
       "      <td>3</td>\n",
       "      <td>0</td>\n",
       "      <td>2</td>\n",
       "      <td>0</td>\n",
       "      <td>2</td>\n",
       "      <td>0</td>\n",
       "      <td>3</td>\n",
       "      <td>0</td>\n",
       "    </tr>\n",
       "    <tr>\n",
       "      <th>2</th>\n",
       "      <td>0</td>\n",
       "      <td>1</td>\n",
       "      <td>2</td>\n",
       "      <td>1</td>\n",
       "      <td>0</td>\n",
       "      <td>3</td>\n",
       "      <td>3</td>\n",
       "      <td>3</td>\n",
       "      <td>1</td>\n",
       "      <td>0</td>\n",
       "      <td>...</td>\n",
       "      <td>2</td>\n",
       "      <td>2</td>\n",
       "      <td>2</td>\n",
       "      <td>2</td>\n",
       "      <td>1</td>\n",
       "      <td>3</td>\n",
       "      <td>2</td>\n",
       "      <td>3</td>\n",
       "      <td>0</td>\n",
       "      <td>2</td>\n",
       "    </tr>\n",
       "    <tr>\n",
       "      <th>3</th>\n",
       "      <td>0</td>\n",
       "      <td>1</td>\n",
       "      <td>2</td>\n",
       "      <td>1</td>\n",
       "      <td>0</td>\n",
       "      <td>0</td>\n",
       "      <td>3</td>\n",
       "      <td>3</td>\n",
       "      <td>1</td>\n",
       "      <td>0</td>\n",
       "      <td>...</td>\n",
       "      <td>2</td>\n",
       "      <td>3</td>\n",
       "      <td>2</td>\n",
       "      <td>2</td>\n",
       "      <td>1</td>\n",
       "      <td>2</td>\n",
       "      <td>2</td>\n",
       "      <td>2</td>\n",
       "      <td>2</td>\n",
       "      <td>2</td>\n",
       "    </tr>\n",
       "    <tr>\n",
       "      <th>4</th>\n",
       "      <td>0</td>\n",
       "      <td>1</td>\n",
       "      <td>2</td>\n",
       "      <td>1</td>\n",
       "      <td>0</td>\n",
       "      <td>0</td>\n",
       "      <td>3</td>\n",
       "      <td>4</td>\n",
       "      <td>2</td>\n",
       "      <td>1</td>\n",
       "      <td>...</td>\n",
       "      <td>3</td>\n",
       "      <td>0</td>\n",
       "      <td>3</td>\n",
       "      <td>3</td>\n",
       "      <td>2</td>\n",
       "      <td>3</td>\n",
       "      <td>2</td>\n",
       "      <td>3</td>\n",
       "      <td>3</td>\n",
       "      <td>3</td>\n",
       "    </tr>\n",
       "    <tr>\n",
       "      <th>5</th>\n",
       "      <td>0</td>\n",
       "      <td>1</td>\n",
       "      <td>2</td>\n",
       "      <td>0</td>\n",
       "      <td>0</td>\n",
       "      <td>0</td>\n",
       "      <td>3</td>\n",
       "      <td>3</td>\n",
       "      <td>2</td>\n",
       "      <td>1</td>\n",
       "      <td>...</td>\n",
       "      <td>2</td>\n",
       "      <td>2</td>\n",
       "      <td>3</td>\n",
       "      <td>3</td>\n",
       "      <td>2</td>\n",
       "      <td>3</td>\n",
       "      <td>2</td>\n",
       "      <td>3</td>\n",
       "      <td>0</td>\n",
       "      <td>3</td>\n",
       "    </tr>\n",
       "    <tr>\n",
       "      <th>6</th>\n",
       "      <td>0</td>\n",
       "      <td>1</td>\n",
       "      <td>2</td>\n",
       "      <td>0</td>\n",
       "      <td>0</td>\n",
       "      <td>0</td>\n",
       "      <td>3</td>\n",
       "      <td>3</td>\n",
       "      <td>2</td>\n",
       "      <td>1</td>\n",
       "      <td>...</td>\n",
       "      <td>3</td>\n",
       "      <td>0</td>\n",
       "      <td>3</td>\n",
       "      <td>0</td>\n",
       "      <td>2</td>\n",
       "      <td>0</td>\n",
       "      <td>2</td>\n",
       "      <td>0</td>\n",
       "      <td>0</td>\n",
       "      <td>0</td>\n",
       "    </tr>\n",
       "    <tr>\n",
       "      <th>7</th>\n",
       "      <td>0</td>\n",
       "      <td>1</td>\n",
       "      <td>0</td>\n",
       "      <td>0</td>\n",
       "      <td>0</td>\n",
       "      <td>0</td>\n",
       "      <td>4</td>\n",
       "      <td>4</td>\n",
       "      <td>2</td>\n",
       "      <td>0</td>\n",
       "      <td>...</td>\n",
       "      <td>3</td>\n",
       "      <td>3</td>\n",
       "      <td>3</td>\n",
       "      <td>3</td>\n",
       "      <td>2</td>\n",
       "      <td>3</td>\n",
       "      <td>2</td>\n",
       "      <td>3</td>\n",
       "      <td>3</td>\n",
       "      <td>3</td>\n",
       "    </tr>\n",
       "    <tr>\n",
       "      <th>8</th>\n",
       "      <td>0</td>\n",
       "      <td>1</td>\n",
       "      <td>4</td>\n",
       "      <td>0</td>\n",
       "      <td>0</td>\n",
       "      <td>0</td>\n",
       "      <td>1</td>\n",
       "      <td>3</td>\n",
       "      <td>2</td>\n",
       "      <td>1</td>\n",
       "      <td>...</td>\n",
       "      <td>2</td>\n",
       "      <td>3</td>\n",
       "      <td>3</td>\n",
       "      <td>3</td>\n",
       "      <td>2</td>\n",
       "      <td>3</td>\n",
       "      <td>2</td>\n",
       "      <td>3</td>\n",
       "      <td>0</td>\n",
       "      <td>3</td>\n",
       "    </tr>\n",
       "    <tr>\n",
       "      <th>9</th>\n",
       "      <td>0</td>\n",
       "      <td>1</td>\n",
       "      <td>0</td>\n",
       "      <td>1</td>\n",
       "      <td>0</td>\n",
       "      <td>0</td>\n",
       "      <td>4</td>\n",
       "      <td>4</td>\n",
       "      <td>2</td>\n",
       "      <td>0</td>\n",
       "      <td>...</td>\n",
       "      <td>3</td>\n",
       "      <td>0</td>\n",
       "      <td>3</td>\n",
       "      <td>3</td>\n",
       "      <td>2</td>\n",
       "      <td>3</td>\n",
       "      <td>2</td>\n",
       "      <td>3</td>\n",
       "      <td>3</td>\n",
       "      <td>3</td>\n",
       "    </tr>\n",
       "  </tbody>\n",
       "</table>\n",
       "<p>10 rows × 43 columns</p>\n",
       "</div>"
      ],
      "text/plain": [
       "   Gender  Marital status  age group  Educatuon  income  Job  Area  CBB_9  \\\n",
       "0       0               1          1          0       0    3     2      4   \n",
       "1       0               1          2          0       0    3     3      4   \n",
       "2       0               1          2          1       0    3     3      3   \n",
       "3       0               1          2          1       0    0     3      3   \n",
       "4       0               1          2          1       0    0     3      4   \n",
       "5       0               1          2          0       0    0     3      3   \n",
       "6       0               1          2          0       0    0     3      3   \n",
       "7       0               1          0          0       0    0     4      4   \n",
       "8       0               1          4          0       0    0     1      3   \n",
       "9       0               1          0          1       0    0     4      4   \n",
       "\n",
       "   CBB_10  CBB_11    ...     FACT__21  FACT__22  FACT__23  FACT__24  FACT__25  \\\n",
       "0       2       0    ...            2         3         3         3         2   \n",
       "1       2       1    ...            3         0         3         0         2   \n",
       "2       1       0    ...            2         2         2         2         1   \n",
       "3       1       0    ...            2         3         2         2         1   \n",
       "4       2       1    ...            3         0         3         3         2   \n",
       "5       2       1    ...            2         2         3         3         2   \n",
       "6       2       1    ...            3         0         3         0         2   \n",
       "7       2       0    ...            3         3         3         3         2   \n",
       "8       2       1    ...            2         3         3         3         2   \n",
       "9       2       0    ...            3         0         3         3         2   \n",
       "\n",
       "   FACT__26  FACT__27  FACT__28  FACT__29  FACT__30  \n",
       "0         3         2         3         3         3  \n",
       "1         0         2         0         3         0  \n",
       "2         3         2         3         0         2  \n",
       "3         2         2         2         2         2  \n",
       "4         3         2         3         3         3  \n",
       "5         3         2         3         0         3  \n",
       "6         0         2         0         0         0  \n",
       "7         3         2         3         3         3  \n",
       "8         3         2         3         0         3  \n",
       "9         3         2         3         3         3  \n",
       "\n",
       "[10 rows x 43 columns]"
      ]
     },
     "execution_count": 25,
     "metadata": {},
     "output_type": "execute_result"
    }
   ],
   "source": [
    "Ec_Data.shape\n",
    "Ec_Data.head(10)"
   ]
  },
  {
   "cell_type": "code",
   "execution_count": 26,
   "metadata": {},
   "outputs": [
    {
     "data": {
      "text/html": [
       "<div>\n",
       "<style scoped>\n",
       "    .dataframe tbody tr th:only-of-type {\n",
       "        vertical-align: middle;\n",
       "    }\n",
       "\n",
       "    .dataframe tbody tr th {\n",
       "        vertical-align: top;\n",
       "    }\n",
       "\n",
       "    .dataframe thead th {\n",
       "        text-align: right;\n",
       "    }\n",
       "</style>\n",
       "<table border=\"1\" class=\"dataframe\">\n",
       "  <thead>\n",
       "    <tr style=\"text-align: right;\">\n",
       "      <th></th>\n",
       "      <th>Gender</th>\n",
       "      <th>Marital status</th>\n",
       "      <th>age group</th>\n",
       "      <th>Educatuon</th>\n",
       "      <th>income</th>\n",
       "      <th>Job</th>\n",
       "      <th>Area</th>\n",
       "      <th>CBB_9</th>\n",
       "      <th>CBB_10</th>\n",
       "      <th>CBB_11</th>\n",
       "      <th>...</th>\n",
       "      <th>FACT__21</th>\n",
       "      <th>FACT__22</th>\n",
       "      <th>FACT__23</th>\n",
       "      <th>FACT__24</th>\n",
       "      <th>FACT__25</th>\n",
       "      <th>FACT__26</th>\n",
       "      <th>FACT__27</th>\n",
       "      <th>FACT__28</th>\n",
       "      <th>FACT__29</th>\n",
       "      <th>FACT__30</th>\n",
       "    </tr>\n",
       "  </thead>\n",
       "  <tbody>\n",
       "    <tr>\n",
       "      <th>0</th>\n",
       "      <td>Female</td>\n",
       "      <td>Unmarried</td>\n",
       "      <td>36-45</td>\n",
       "      <td>Graduation</td>\n",
       "      <td>Above 80,000</td>\n",
       "      <td>Self Employee</td>\n",
       "      <td>Town</td>\n",
       "      <td>10-Sep</td>\n",
       "      <td>above 5000</td>\n",
       "      <td>cas on delivery</td>\n",
       "      <td>...</td>\n",
       "      <td>neutral</td>\n",
       "      <td>strongly agree</td>\n",
       "      <td>strongly agree</td>\n",
       "      <td>strongly agree</td>\n",
       "      <td>strongly agree</td>\n",
       "      <td>strongly agree</td>\n",
       "      <td>strongly agree</td>\n",
       "      <td>strongly agree</td>\n",
       "      <td>strongly agree</td>\n",
       "      <td>strongly agree</td>\n",
       "    </tr>\n",
       "    <tr>\n",
       "      <th>1</th>\n",
       "      <td>Female</td>\n",
       "      <td>Unmarried</td>\n",
       "      <td>46-55</td>\n",
       "      <td>Graduation</td>\n",
       "      <td>Above 80,000</td>\n",
       "      <td>Self Employee</td>\n",
       "      <td>Urban</td>\n",
       "      <td>10-Sep</td>\n",
       "      <td>above 5000</td>\n",
       "      <td>credit cards</td>\n",
       "      <td>...</td>\n",
       "      <td>strongly agree</td>\n",
       "      <td>agree</td>\n",
       "      <td>strongly agree</td>\n",
       "      <td>agree</td>\n",
       "      <td>strongly agree</td>\n",
       "      <td>agree</td>\n",
       "      <td>strongly agree</td>\n",
       "      <td>agree</td>\n",
       "      <td>strongly agree</td>\n",
       "      <td>agree</td>\n",
       "    </tr>\n",
       "    <tr>\n",
       "      <th>2</th>\n",
       "      <td>Female</td>\n",
       "      <td>Unmarried</td>\n",
       "      <td>46-55</td>\n",
       "      <td>Intermediate/10+2</td>\n",
       "      <td>Above 80,000</td>\n",
       "      <td>Self Employee</td>\n",
       "      <td>Urban</td>\n",
       "      <td>08-Jul</td>\n",
       "      <td>500-1000</td>\n",
       "      <td>cas on delivery</td>\n",
       "      <td>...</td>\n",
       "      <td>neutral</td>\n",
       "      <td>neutral</td>\n",
       "      <td>neutral</td>\n",
       "      <td>neutral</td>\n",
       "      <td>neutral</td>\n",
       "      <td>strongly agree</td>\n",
       "      <td>strongly agree</td>\n",
       "      <td>strongly agree</td>\n",
       "      <td>agree</td>\n",
       "      <td>neutral</td>\n",
       "    </tr>\n",
       "    <tr>\n",
       "      <th>3</th>\n",
       "      <td>Female</td>\n",
       "      <td>Unmarried</td>\n",
       "      <td>46-55</td>\n",
       "      <td>Intermediate/10+2</td>\n",
       "      <td>Above 80,000</td>\n",
       "      <td>Employed</td>\n",
       "      <td>Urban</td>\n",
       "      <td>08-Jul</td>\n",
       "      <td>500-1000</td>\n",
       "      <td>cas on delivery</td>\n",
       "      <td>...</td>\n",
       "      <td>neutral</td>\n",
       "      <td>strongly agree</td>\n",
       "      <td>neutral</td>\n",
       "      <td>neutral</td>\n",
       "      <td>neutral</td>\n",
       "      <td>neutral</td>\n",
       "      <td>strongly agree</td>\n",
       "      <td>neutral</td>\n",
       "      <td>neutral</td>\n",
       "      <td>neutral</td>\n",
       "    </tr>\n",
       "    <tr>\n",
       "      <th>4</th>\n",
       "      <td>Female</td>\n",
       "      <td>Unmarried</td>\n",
       "      <td>46-55</td>\n",
       "      <td>Intermediate/10+2</td>\n",
       "      <td>Above 80,000</td>\n",
       "      <td>Employed</td>\n",
       "      <td>Urban</td>\n",
       "      <td>10-Sep</td>\n",
       "      <td>above 5000</td>\n",
       "      <td>credit cards</td>\n",
       "      <td>...</td>\n",
       "      <td>strongly agree</td>\n",
       "      <td>agree</td>\n",
       "      <td>strongly agree</td>\n",
       "      <td>strongly agree</td>\n",
       "      <td>strongly agree</td>\n",
       "      <td>strongly agree</td>\n",
       "      <td>strongly agree</td>\n",
       "      <td>strongly agree</td>\n",
       "      <td>strongly agree</td>\n",
       "      <td>strongly agree</td>\n",
       "    </tr>\n",
       "  </tbody>\n",
       "</table>\n",
       "<p>5 rows × 43 columns</p>\n",
       "</div>"
      ],
      "text/plain": [
       "   Gender Marital status age group          Educatuon        income  \\\n",
       "0  Female      Unmarried     36-45         Graduation  Above 80,000   \n",
       "1  Female      Unmarried     46-55         Graduation  Above 80,000   \n",
       "2  Female      Unmarried     46-55  Intermediate/10+2  Above 80,000   \n",
       "3  Female      Unmarried     46-55  Intermediate/10+2  Above 80,000   \n",
       "4  Female      Unmarried     46-55  Intermediate/10+2  Above 80,000   \n",
       "\n",
       "             Job   Area   CBB_9      CBB_10           CBB_11       ...        \\\n",
       "0  Self Employee   Town  10-Sep  above 5000  cas on delivery       ...         \n",
       "1  Self Employee  Urban  10-Sep  above 5000     credit cards       ...         \n",
       "2  Self Employee  Urban  08-Jul    500-1000  cas on delivery       ...         \n",
       "3       Employed  Urban  08-Jul    500-1000  cas on delivery       ...         \n",
       "4       Employed  Urban  10-Sep  above 5000     credit cards       ...         \n",
       "\n",
       "         FACT__21        FACT__22        FACT__23        FACT__24  \\\n",
       "0         neutral  strongly agree  strongly agree  strongly agree   \n",
       "1  strongly agree           agree  strongly agree           agree   \n",
       "2         neutral         neutral         neutral         neutral   \n",
       "3         neutral  strongly agree         neutral         neutral   \n",
       "4  strongly agree           agree  strongly agree  strongly agree   \n",
       "\n",
       "         FACT__25        FACT__26        FACT__27        FACT__28  \\\n",
       "0  strongly agree  strongly agree  strongly agree  strongly agree   \n",
       "1  strongly agree           agree  strongly agree           agree   \n",
       "2         neutral  strongly agree  strongly agree  strongly agree   \n",
       "3         neutral         neutral  strongly agree         neutral   \n",
       "4  strongly agree  strongly agree  strongly agree  strongly agree   \n",
       "\n",
       "         FACT__29        FACT__30  \n",
       "0  strongly agree  strongly agree  \n",
       "1  strongly agree           agree  \n",
       "2           agree         neutral  \n",
       "3         neutral         neutral  \n",
       "4  strongly agree  strongly agree  \n",
       "\n",
       "[5 rows x 43 columns]"
      ]
     },
     "execution_count": 26,
     "metadata": {},
     "output_type": "execute_result"
    }
   ],
   "source": [
    "Ecom_Data.head()"
   ]
  },
  {
   "cell_type": "code",
   "execution_count": 35,
   "metadata": {},
   "outputs": [
    {
     "data": {
      "text/html": [
       "<div>\n",
       "<style scoped>\n",
       "    .dataframe tbody tr th:only-of-type {\n",
       "        vertical-align: middle;\n",
       "    }\n",
       "\n",
       "    .dataframe tbody tr th {\n",
       "        vertical-align: top;\n",
       "    }\n",
       "\n",
       "    .dataframe thead th {\n",
       "        text-align: right;\n",
       "    }\n",
       "</style>\n",
       "<table border=\"1\" class=\"dataframe\">\n",
       "  <thead>\n",
       "    <tr style=\"text-align: right;\">\n",
       "      <th></th>\n",
       "    </tr>\n",
       "  </thead>\n",
       "  <tbody>\n",
       "  </tbody>\n",
       "</table>\n",
       "</div>"
      ],
      "text/plain": [
       "Empty DataFrame\n",
       "Columns: []\n",
       "Index: []"
      ]
     },
     "execution_count": 35,
     "metadata": {},
     "output_type": "execute_result"
    }
   ],
   "source": [
    "Ec_Data1= pd.DataFrame()\n",
    "Ec_Data1.head()"
   ]
  },
  {
   "cell_type": "code",
   "execution_count": 36,
   "metadata": {},
   "outputs": [
    {
     "data": {
      "text/html": [
       "<div>\n",
       "<style scoped>\n",
       "    .dataframe tbody tr th:only-of-type {\n",
       "        vertical-align: middle;\n",
       "    }\n",
       "\n",
       "    .dataframe tbody tr th {\n",
       "        vertical-align: top;\n",
       "    }\n",
       "\n",
       "    .dataframe thead th {\n",
       "        text-align: right;\n",
       "    }\n",
       "</style>\n",
       "<table border=\"1\" class=\"dataframe\">\n",
       "  <thead>\n",
       "    <tr style=\"text-align: right;\">\n",
       "      <th></th>\n",
       "      <th>Gender</th>\n",
       "      <th>Marital status</th>\n",
       "      <th>age group</th>\n",
       "      <th>Educatuon</th>\n",
       "      <th>income</th>\n",
       "      <th>Job</th>\n",
       "      <th>Area</th>\n",
       "      <th>CBB_9</th>\n",
       "      <th>CBB_10</th>\n",
       "      <th>CBB_11</th>\n",
       "      <th>CBB_12</th>\n",
       "      <th>CBB_13</th>\n",
       "      <th>CBB_14</th>\n",
       "    </tr>\n",
       "  </thead>\n",
       "  <tbody>\n",
       "    <tr>\n",
       "      <th>0</th>\n",
       "      <td>0</td>\n",
       "      <td>1</td>\n",
       "      <td>1</td>\n",
       "      <td>0</td>\n",
       "      <td>0</td>\n",
       "      <td>3</td>\n",
       "      <td>2</td>\n",
       "      <td>4</td>\n",
       "      <td>2</td>\n",
       "      <td>0</td>\n",
       "      <td>3</td>\n",
       "      <td>4</td>\n",
       "      <td>0</td>\n",
       "    </tr>\n",
       "    <tr>\n",
       "      <th>1</th>\n",
       "      <td>0</td>\n",
       "      <td>1</td>\n",
       "      <td>2</td>\n",
       "      <td>0</td>\n",
       "      <td>0</td>\n",
       "      <td>3</td>\n",
       "      <td>3</td>\n",
       "      <td>4</td>\n",
       "      <td>2</td>\n",
       "      <td>1</td>\n",
       "      <td>3</td>\n",
       "      <td>0</td>\n",
       "      <td>2</td>\n",
       "    </tr>\n",
       "    <tr>\n",
       "      <th>2</th>\n",
       "      <td>0</td>\n",
       "      <td>1</td>\n",
       "      <td>2</td>\n",
       "      <td>1</td>\n",
       "      <td>0</td>\n",
       "      <td>3</td>\n",
       "      <td>3</td>\n",
       "      <td>3</td>\n",
       "      <td>1</td>\n",
       "      <td>0</td>\n",
       "      <td>3</td>\n",
       "      <td>4</td>\n",
       "      <td>2</td>\n",
       "    </tr>\n",
       "    <tr>\n",
       "      <th>3</th>\n",
       "      <td>0</td>\n",
       "      <td>1</td>\n",
       "      <td>2</td>\n",
       "      <td>1</td>\n",
       "      <td>0</td>\n",
       "      <td>0</td>\n",
       "      <td>3</td>\n",
       "      <td>3</td>\n",
       "      <td>1</td>\n",
       "      <td>0</td>\n",
       "      <td>0</td>\n",
       "      <td>4</td>\n",
       "      <td>1</td>\n",
       "    </tr>\n",
       "    <tr>\n",
       "      <th>4</th>\n",
       "      <td>0</td>\n",
       "      <td>1</td>\n",
       "      <td>2</td>\n",
       "      <td>1</td>\n",
       "      <td>0</td>\n",
       "      <td>0</td>\n",
       "      <td>3</td>\n",
       "      <td>4</td>\n",
       "      <td>2</td>\n",
       "      <td>1</td>\n",
       "      <td>3</td>\n",
       "      <td>4</td>\n",
       "      <td>2</td>\n",
       "    </tr>\n",
       "  </tbody>\n",
       "</table>\n",
       "</div>"
      ],
      "text/plain": [
       "   Gender  Marital status  age group  Educatuon  income  Job  Area  CBB_9  \\\n",
       "0       0               1          1          0       0    3     2      4   \n",
       "1       0               1          2          0       0    3     3      4   \n",
       "2       0               1          2          1       0    3     3      3   \n",
       "3       0               1          2          1       0    0     3      3   \n",
       "4       0               1          2          1       0    0     3      4   \n",
       "\n",
       "   CBB_10  CBB_11  CBB_12  CBB_13  CBB_14  \n",
       "0       2       0       3       4       0  \n",
       "1       2       1       3       0       2  \n",
       "2       1       0       3       4       2  \n",
       "3       1       0       0       4       1  \n",
       "4       2       1       3       4       2  "
      ]
     },
     "execution_count": 36,
     "metadata": {},
     "output_type": "execute_result"
    }
   ],
   "source": [
    "Edemo= pd.DataFrame()\n",
    "Edemo = Ec_Data[['Gender', 'Marital status', 'age group', 'Educatuon', 'income', 'Job',\n",
    "       'Area', 'CBB_9', 'CBB_10', 'CBB_11', 'CBB_12', 'CBB_13', 'CBB_14']]\n",
    "Edemo.head()"
   ]
  },
  {
   "cell_type": "code",
   "execution_count": 37,
   "metadata": {},
   "outputs": [
    {
     "data": {
      "text/html": [
       "<div>\n",
       "<style scoped>\n",
       "    .dataframe tbody tr th:only-of-type {\n",
       "        vertical-align: middle;\n",
       "    }\n",
       "\n",
       "    .dataframe tbody tr th {\n",
       "        vertical-align: top;\n",
       "    }\n",
       "\n",
       "    .dataframe thead th {\n",
       "        text-align: right;\n",
       "    }\n",
       "</style>\n",
       "<table border=\"1\" class=\"dataframe\">\n",
       "  <thead>\n",
       "    <tr style=\"text-align: right;\">\n",
       "      <th></th>\n",
       "      <th>FACT__1</th>\n",
       "      <th>FACT__2</th>\n",
       "      <th>FACT__3</th>\n",
       "      <th>FACT__4</th>\n",
       "      <th>FACT__5</th>\n",
       "      <th>FACT__6</th>\n",
       "      <th>FACT__7</th>\n",
       "      <th>FACT__8</th>\n",
       "      <th>FACT__9</th>\n",
       "      <th>FACT__10</th>\n",
       "      <th>...</th>\n",
       "      <th>FACT__21</th>\n",
       "      <th>FACT__22</th>\n",
       "      <th>FACT__23</th>\n",
       "      <th>FACT__24</th>\n",
       "      <th>FACT__25</th>\n",
       "      <th>FACT__26</th>\n",
       "      <th>FACT__27</th>\n",
       "      <th>FACT__28</th>\n",
       "      <th>FACT__29</th>\n",
       "      <th>FACT__30</th>\n",
       "    </tr>\n",
       "  </thead>\n",
       "  <tbody>\n",
       "    <tr>\n",
       "      <th>0</th>\n",
       "      <td>3</td>\n",
       "      <td>2</td>\n",
       "      <td>2</td>\n",
       "      <td>3</td>\n",
       "      <td>3</td>\n",
       "      <td>2</td>\n",
       "      <td>3</td>\n",
       "      <td>0</td>\n",
       "      <td>3</td>\n",
       "      <td>0</td>\n",
       "      <td>...</td>\n",
       "      <td>2</td>\n",
       "      <td>3</td>\n",
       "      <td>3</td>\n",
       "      <td>3</td>\n",
       "      <td>2</td>\n",
       "      <td>3</td>\n",
       "      <td>2</td>\n",
       "      <td>3</td>\n",
       "      <td>3</td>\n",
       "      <td>3</td>\n",
       "    </tr>\n",
       "    <tr>\n",
       "      <th>1</th>\n",
       "      <td>3</td>\n",
       "      <td>2</td>\n",
       "      <td>2</td>\n",
       "      <td>3</td>\n",
       "      <td>3</td>\n",
       "      <td>2</td>\n",
       "      <td>0</td>\n",
       "      <td>0</td>\n",
       "      <td>3</td>\n",
       "      <td>3</td>\n",
       "      <td>...</td>\n",
       "      <td>3</td>\n",
       "      <td>0</td>\n",
       "      <td>3</td>\n",
       "      <td>0</td>\n",
       "      <td>2</td>\n",
       "      <td>0</td>\n",
       "      <td>2</td>\n",
       "      <td>0</td>\n",
       "      <td>3</td>\n",
       "      <td>0</td>\n",
       "    </tr>\n",
       "    <tr>\n",
       "      <th>2</th>\n",
       "      <td>0</td>\n",
       "      <td>2</td>\n",
       "      <td>2</td>\n",
       "      <td>0</td>\n",
       "      <td>0</td>\n",
       "      <td>1</td>\n",
       "      <td>3</td>\n",
       "      <td>0</td>\n",
       "      <td>0</td>\n",
       "      <td>0</td>\n",
       "      <td>...</td>\n",
       "      <td>2</td>\n",
       "      <td>2</td>\n",
       "      <td>2</td>\n",
       "      <td>2</td>\n",
       "      <td>1</td>\n",
       "      <td>3</td>\n",
       "      <td>2</td>\n",
       "      <td>3</td>\n",
       "      <td>0</td>\n",
       "      <td>2</td>\n",
       "    </tr>\n",
       "    <tr>\n",
       "      <th>3</th>\n",
       "      <td>3</td>\n",
       "      <td>2</td>\n",
       "      <td>2</td>\n",
       "      <td>2</td>\n",
       "      <td>0</td>\n",
       "      <td>1</td>\n",
       "      <td>2</td>\n",
       "      <td>0</td>\n",
       "      <td>2</td>\n",
       "      <td>2</td>\n",
       "      <td>...</td>\n",
       "      <td>2</td>\n",
       "      <td>3</td>\n",
       "      <td>2</td>\n",
       "      <td>2</td>\n",
       "      <td>1</td>\n",
       "      <td>2</td>\n",
       "      <td>2</td>\n",
       "      <td>2</td>\n",
       "      <td>2</td>\n",
       "      <td>2</td>\n",
       "    </tr>\n",
       "    <tr>\n",
       "      <th>4</th>\n",
       "      <td>3</td>\n",
       "      <td>2</td>\n",
       "      <td>2</td>\n",
       "      <td>3</td>\n",
       "      <td>3</td>\n",
       "      <td>1</td>\n",
       "      <td>3</td>\n",
       "      <td>0</td>\n",
       "      <td>3</td>\n",
       "      <td>3</td>\n",
       "      <td>...</td>\n",
       "      <td>3</td>\n",
       "      <td>0</td>\n",
       "      <td>3</td>\n",
       "      <td>3</td>\n",
       "      <td>2</td>\n",
       "      <td>3</td>\n",
       "      <td>2</td>\n",
       "      <td>3</td>\n",
       "      <td>3</td>\n",
       "      <td>3</td>\n",
       "    </tr>\n",
       "  </tbody>\n",
       "</table>\n",
       "<p>5 rows × 30 columns</p>\n",
       "</div>"
      ],
      "text/plain": [
       "   FACT__1  FACT__2  FACT__3  FACT__4  FACT__5  FACT__6  FACT__7  FACT__8  \\\n",
       "0        3        2        2        3        3        2        3        0   \n",
       "1        3        2        2        3        3        2        0        0   \n",
       "2        0        2        2        0        0        1        3        0   \n",
       "3        3        2        2        2        0        1        2        0   \n",
       "4        3        2        2        3        3        1        3        0   \n",
       "\n",
       "   FACT__9  FACT__10    ...     FACT__21  FACT__22  FACT__23  FACT__24  \\\n",
       "0        3         0    ...            2         3         3         3   \n",
       "1        3         3    ...            3         0         3         0   \n",
       "2        0         0    ...            2         2         2         2   \n",
       "3        2         2    ...            2         3         2         2   \n",
       "4        3         3    ...            3         0         3         3   \n",
       "\n",
       "   FACT__25  FACT__26  FACT__27  FACT__28  FACT__29  FACT__30  \n",
       "0         2         3         2         3         3         3  \n",
       "1         2         0         2         0         3         0  \n",
       "2         1         3         2         3         0         2  \n",
       "3         1         2         2         2         2         2  \n",
       "4         2         3         2         3         3         3  \n",
       "\n",
       "[5 rows x 30 columns]"
      ]
     },
     "execution_count": 37,
     "metadata": {},
     "output_type": "execute_result"
    }
   ],
   "source": [
    "# Applying PCA to factor variabls to reduce the dimensions\n",
    "# creating data set only with factor elements\n",
    "Ec_Data1 = Ec_Data[[\"FACT__1\",\"FACT__2\",\"FACT__3\",\"FACT__4\",\"FACT__5\",\"FACT__6\",\"FACT__7\",\"FACT__8\",\"FACT__9\",\"FACT__10\",\"FACT__11\",\"FACT__12\",\"FACT__13\",\"FACT__14\",\"FACT__15\",\"FACT__16\",\"FACT__17\",\"FACT__18\",\"FACT__19\",\"FACT__20\",\"FACT__21\",\"FACT__22\",\"FACT__23\",\"FACT__24\",\"FACT__25\",\"FACT__26\",\"FACT__27\",\"FACT__28\",\"FACT__29\",\"FACT__30\"]]\n",
    "Ec_Data1.shape\n",
    "Ec_Data1.head()"
   ]
  },
  {
   "cell_type": "code",
   "execution_count": 38,
   "metadata": {},
   "outputs": [],
   "source": [
    "# checking cronbach alpha value to under satand reliability\n",
    "def CronbachAlpha(itemscores):\n",
    "    itemscores = np.asarray(itemscores)\n",
    "    itemvars = itemscores.var(axis=1, ddof=1)\n",
    "    tscores = itemscores.sum(axis=0)\n",
    "    nitems = len(itemscores)\n",
    "\n",
    "    return nitems / (nitems-1.) * (1 - itemvars.sum() / tscores.var(ddof=1))"
   ]
  },
  {
   "cell_type": "code",
   "execution_count": 39,
   "metadata": {},
   "outputs": [
    {
     "data": {
      "text/plain": [
       "0.9966009524492323"
      ]
     },
     "execution_count": 39,
     "metadata": {},
     "output_type": "execute_result"
    }
   ],
   "source": [
    "# CronbachAlpha Test\n",
    "CronbachAlpha(Ec_Data)"
   ]
  },
  {
   "cell_type": "code",
   "execution_count": 40,
   "metadata": {},
   "outputs": [
    {
     "data": {
      "text/plain": [
       "0.9966009524492323"
      ]
     },
     "execution_count": 40,
     "metadata": {},
     "output_type": "execute_result"
    }
   ],
   "source": [
    "# CronbachAlpha Test\n",
    "CronbachAlpha(Ey_Data)"
   ]
  },
  {
   "cell_type": "code",
   "execution_count": 41,
   "metadata": {},
   "outputs": [
    {
     "data": {
      "text/plain": [
       "Index(['Gender', 'Marital status', 'age group', 'Educatuon', 'income', 'Job',\n",
       "       'Area', 'CBB_9', 'CBB_10', 'CBB_11', 'CBB_12', 'CBB_13', 'CBB_14',\n",
       "       'FACT__1', 'FACT__2', 'FACT__3', 'FACT__4', 'FACT__5', 'FACT__6',\n",
       "       'FACT__7', 'FACT__8', 'FACT__9', 'FACT__10', 'FACT__11', 'FACT__12',\n",
       "       'FACT__13', 'FACT__14', 'FACT__15', 'FACT__16', 'FACT__17', 'FACT__18',\n",
       "       'FACT__19', 'FACT__20', 'FACT__21', 'FACT__22', 'FACT__23', 'FACT__24',\n",
       "       'FACT__25', 'FACT__26', 'FACT__27', 'FACT__28', 'FACT__29', 'FACT__30'],\n",
       "      dtype='object')"
      ]
     },
     "execution_count": 41,
     "metadata": {},
     "output_type": "execute_result"
    }
   ],
   "source": [
    "Ey_Data.columns"
   ]
  },
  {
   "cell_type": "code",
   "execution_count": 47,
   "metadata": {},
   "outputs": [
    {
     "data": {
      "text/plain": [
       "PCA(n_components=30)"
      ]
     },
     "execution_count": 47,
     "metadata": {},
     "output_type": "execute_result"
    }
   ],
   "source": [
    "# creating covariance matrix\n",
    "CVM = PCA(n_components=30)\n",
    "# calculating eigen values\n",
    "CVM.fit(Ec_Data1)"
   ]
  },
  {
   "cell_type": "code",
   "execution_count": 48,
   "metadata": {},
   "outputs": [
    {
     "data": {
      "text/plain": [
       "array([ 28.2,  40.9,  52. ,  60.6,  67.5,  73.4,  77.7,  80.9,  83.5,\n",
       "        85.7,  87.4,  88.9,  90.2,  91.3,  92.3,  93.2,  94.1,  94.9,\n",
       "        95.7,  96.4,  97. ,  97.6,  98.2,  98.7,  99.2,  99.5,  99.8,\n",
       "       100. , 100. , 100. ])"
      ]
     },
     "execution_count": 48,
     "metadata": {},
     "output_type": "execute_result"
    }
   ],
   "source": [
    "#calculate variance ratios\n",
    "variance = CVM.explained_variance_ratio_\n",
    "#cumulative sum of variance explained with [n] features\n",
    "var=np.cumsum(np.round(variance, decimals=3)*100)\n",
    "var"
   ]
  },
  {
   "cell_type": "code",
   "execution_count": 49,
   "metadata": {},
   "outputs": [
    {
     "data": {
      "text/plain": [
       "[<matplotlib.lines.Line2D at 0x14a21d84400>]"
      ]
     },
     "execution_count": 49,
     "metadata": {},
     "output_type": "execute_result"
    },
    {
     "data": {
      "image/png": "[encoded data removed]",
      "text/plain": [
       "<Figure size 432x288 with 1 Axes>"
      ]
     },
     "metadata": {
      "needs_background": "light"
     },
     "output_type": "display_data"
    }
   ],
   "source": [
    "# plotting of variance explained\n",
    "plt.ylabel('% Variance Explained')\n",
    "plt.xlabel('# of Features')\n",
    "plt.title('PCA Analysis')\n",
    "plt.ylim(30,100.5)\n",
    "plt.style.context('seaborn-whitegrid')\n",
    "plt.plot(var)"
   ]
  },
  {
   "cell_type": "code",
   "execution_count": 70,
   "metadata": {},
   "outputs": [
    {
     "data": {
      "text/html": [
       "<div>\n",
       "<style scoped>\n",
       "    .dataframe tbody tr th:only-of-type {\n",
       "        vertical-align: middle;\n",
       "    }\n",
       "\n",
       "    .dataframe tbody tr th {\n",
       "        vertical-align: top;\n",
       "    }\n",
       "\n",
       "    .dataframe thead th {\n",
       "        text-align: right;\n",
       "    }\n",
       "</style>\n",
       "<table border=\"1\" class=\"dataframe\">\n",
       "  <thead>\n",
       "    <tr style=\"text-align: right;\">\n",
       "      <th></th>\n",
       "      <th>pc1</th>\n",
       "      <th>pc2</th>\n",
       "      <th>pc3</th>\n",
       "      <th>pc4</th>\n",
       "      <th>pc5</th>\n",
       "      <th>pc6</th>\n",
       "      <th>pc7</th>\n",
       "      <th>pc8</th>\n",
       "      <th>pc9</th>\n",
       "      <th>pc10</th>\n",
       "      <th>...</th>\n",
       "      <th>pc21</th>\n",
       "      <th>pc22</th>\n",
       "      <th>pc23</th>\n",
       "      <th>pc24</th>\n",
       "      <th>pc25</th>\n",
       "      <th>pc26</th>\n",
       "      <th>pc27</th>\n",
       "      <th>pc28</th>\n",
       "      <th>pc29</th>\n",
       "      <th>pc30</th>\n",
       "    </tr>\n",
       "  </thead>\n",
       "  <tbody>\n",
       "    <tr>\n",
       "      <th>0</th>\n",
       "      <td>-4.338365</td>\n",
       "      <td>-2.969082</td>\n",
       "      <td>0.008515</td>\n",
       "      <td>-0.758741</td>\n",
       "      <td>0.222836</td>\n",
       "      <td>-0.819732</td>\n",
       "      <td>-0.080693</td>\n",
       "      <td>-0.437382</td>\n",
       "      <td>0.173655</td>\n",
       "      <td>-0.537369</td>\n",
       "      <td>...</td>\n",
       "      <td>-0.171533</td>\n",
       "      <td>0.957984</td>\n",
       "      <td>0.314764</td>\n",
       "      <td>-0.138889</td>\n",
       "      <td>1.214763</td>\n",
       "      <td>-0.375762</td>\n",
       "      <td>0.001292</td>\n",
       "      <td>-0.023182</td>\n",
       "      <td>-0.931856</td>\n",
       "      <td>-6.695130e-15</td>\n",
       "    </tr>\n",
       "    <tr>\n",
       "      <th>1</th>\n",
       "      <td>-1.422389</td>\n",
       "      <td>3.031545</td>\n",
       "      <td>-2.889961</td>\n",
       "      <td>-2.058350</td>\n",
       "      <td>3.209062</td>\n",
       "      <td>1.848032</td>\n",
       "      <td>1.933170</td>\n",
       "      <td>-0.728288</td>\n",
       "      <td>1.196076</td>\n",
       "      <td>0.008489</td>\n",
       "      <td>...</td>\n",
       "      <td>-0.308170</td>\n",
       "      <td>-0.521261</td>\n",
       "      <td>-0.075761</td>\n",
       "      <td>-0.107714</td>\n",
       "      <td>0.066845</td>\n",
       "      <td>-0.106687</td>\n",
       "      <td>0.025078</td>\n",
       "      <td>0.145780</td>\n",
       "      <td>-0.932388</td>\n",
       "      <td>1.341742e-15</td>\n",
       "    </tr>\n",
       "    <tr>\n",
       "      <th>2</th>\n",
       "      <td>0.092274</td>\n",
       "      <td>-0.405955</td>\n",
       "      <td>2.833661</td>\n",
       "      <td>-1.583581</td>\n",
       "      <td>-0.337161</td>\n",
       "      <td>-2.083084</td>\n",
       "      <td>0.142646</td>\n",
       "      <td>2.892139</td>\n",
       "      <td>-0.408684</td>\n",
       "      <td>-0.068979</td>\n",
       "      <td>...</td>\n",
       "      <td>0.676441</td>\n",
       "      <td>-0.983688</td>\n",
       "      <td>0.203759</td>\n",
       "      <td>-0.117458</td>\n",
       "      <td>0.199379</td>\n",
       "      <td>0.086223</td>\n",
       "      <td>0.264594</td>\n",
       "      <td>-0.291559</td>\n",
       "      <td>-0.053934</td>\n",
       "      <td>2.440628e-14</td>\n",
       "    </tr>\n",
       "    <tr>\n",
       "      <th>3</th>\n",
       "      <td>0.767100</td>\n",
       "      <td>0.607277</td>\n",
       "      <td>-0.128636</td>\n",
       "      <td>0.323350</td>\n",
       "      <td>0.627438</td>\n",
       "      <td>-2.043069</td>\n",
       "      <td>-1.277789</td>\n",
       "      <td>-0.341761</td>\n",
       "      <td>-1.164115</td>\n",
       "      <td>1.538196</td>\n",
       "      <td>...</td>\n",
       "      <td>0.232316</td>\n",
       "      <td>1.044636</td>\n",
       "      <td>0.639579</td>\n",
       "      <td>-0.056154</td>\n",
       "      <td>-1.231965</td>\n",
       "      <td>0.135027</td>\n",
       "      <td>-0.747173</td>\n",
       "      <td>0.509202</td>\n",
       "      <td>0.012779</td>\n",
       "      <td>-1.262180e-14</td>\n",
       "    </tr>\n",
       "    <tr>\n",
       "      <th>4</th>\n",
       "      <td>-4.447377</td>\n",
       "      <td>-2.368054</td>\n",
       "      <td>-1.824174</td>\n",
       "      <td>0.686196</td>\n",
       "      <td>1.126454</td>\n",
       "      <td>0.709377</td>\n",
       "      <td>1.472043</td>\n",
       "      <td>1.489187</td>\n",
       "      <td>-0.474811</td>\n",
       "      <td>-0.183053</td>\n",
       "      <td>...</td>\n",
       "      <td>-0.141545</td>\n",
       "      <td>-0.087037</td>\n",
       "      <td>-0.203506</td>\n",
       "      <td>-0.023132</td>\n",
       "      <td>-0.105855</td>\n",
       "      <td>-0.121676</td>\n",
       "      <td>0.060256</td>\n",
       "      <td>0.075171</td>\n",
       "      <td>0.026397</td>\n",
       "      <td>-2.785378e-15</td>\n",
       "    </tr>\n",
       "  </tbody>\n",
       "</table>\n",
       "<p>5 rows × 30 columns</p>\n",
       "</div>"
      ],
      "text/plain": [
       "        pc1       pc2       pc3       pc4       pc5       pc6       pc7  \\\n",
       "0 -4.338365 -2.969082  0.008515 -0.758741  0.222836 -0.819732 -0.080693   \n",
       "1 -1.422389  3.031545 -2.889961 -2.058350  3.209062  1.848032  1.933170   \n",
       "2  0.092274 -0.405955  2.833661 -1.583581 -0.337161 -2.083084  0.142646   \n",
       "3  0.767100  0.607277 -0.128636  0.323350  0.627438 -2.043069 -1.277789   \n",
       "4 -4.447377 -2.368054 -1.824174  0.686196  1.126454  0.709377  1.472043   \n",
       "\n",
       "        pc8       pc9      pc10      ...           pc21      pc22      pc23  \\\n",
       "0 -0.437382  0.173655 -0.537369      ...      -0.171533  0.957984  0.314764   \n",
       "1 -0.728288  1.196076  0.008489      ...      -0.308170 -0.521261 -0.075761   \n",
       "2  2.892139 -0.408684 -0.068979      ...       0.676441 -0.983688  0.203759   \n",
       "3 -0.341761 -1.164115  1.538196      ...       0.232316  1.044636  0.639579   \n",
       "4  1.489187 -0.474811 -0.183053      ...      -0.141545 -0.087037 -0.203506   \n",
       "\n",
       "       pc24      pc25      pc26      pc27      pc28      pc29          pc30  \n",
       "0 -0.138889  1.214763 -0.375762  0.001292 -0.023182 -0.931856 -6.695130e-15  \n",
       "1 -0.107714  0.066845 -0.106687  0.025078  0.145780 -0.932388  1.341742e-15  \n",
       "2 -0.117458  0.199379  0.086223  0.264594 -0.291559 -0.053934  2.440628e-14  \n",
       "3 -0.056154 -1.231965  0.135027 -0.747173  0.509202  0.012779 -1.262180e-14  \n",
       "4 -0.023132 -0.105855 -0.121676  0.060256  0.075171  0.026397 -2.785378e-15  \n",
       "\n",
       "[5 rows x 30 columns]"
      ]
     },
     "execution_count": 70,
     "metadata": {},
     "output_type": "execute_result"
    }
   ],
   "source": [
    "# fitting PCA components to a data frame\n",
    "pca_CVM = CVM.fit_transform(Ec_Data1)\n",
    "pca_df = pd.DataFrame(data=pca_CVM,columns = ['pc1','pc2','pc3','pc4','pc5','pc6','pc7','pc8','pc9','pc10','pc11','pc12','pc13','pc14','pc15','pc16','pc17','pc18','pc19','pc20','pc21','pc22','pc23','pc24','pc25','pc26','pc27','pc28','pc29','pc30'])\n",
    "pca_df.head()"
   ]
  },
  {
   "cell_type": "code",
   "execution_count": 69,
   "metadata": {},
   "outputs": [
    {
     "data": {
      "text/html": [
       "<div>\n",
       "<style scoped>\n",
       "    .dataframe tbody tr th:only-of-type {\n",
       "        vertical-align: middle;\n",
       "    }\n",
       "\n",
       "    .dataframe tbody tr th {\n",
       "        vertical-align: top;\n",
       "    }\n",
       "\n",
       "    .dataframe thead th {\n",
       "        text-align: right;\n",
       "    }\n",
       "</style>\n",
       "<table border=\"1\" class=\"dataframe\">\n",
       "  <thead>\n",
       "    <tr style=\"text-align: right;\">\n",
       "      <th></th>\n",
       "      <th>0</th>\n",
       "      <th>1</th>\n",
       "      <th>2</th>\n",
       "      <th>3</th>\n",
       "      <th>4</th>\n",
       "      <th>5</th>\n",
       "      <th>6</th>\n",
       "      <th>7</th>\n",
       "      <th>8</th>\n",
       "      <th>9</th>\n",
       "      <th>...</th>\n",
       "      <th>20</th>\n",
       "      <th>21</th>\n",
       "      <th>22</th>\n",
       "      <th>23</th>\n",
       "      <th>24</th>\n",
       "      <th>25</th>\n",
       "      <th>26</th>\n",
       "      <th>27</th>\n",
       "      <th>28</th>\n",
       "      <th>29</th>\n",
       "    </tr>\n",
       "  </thead>\n",
       "  <tbody>\n",
       "    <tr>\n",
       "      <th>0</th>\n",
       "      <td>-4.338365</td>\n",
       "      <td>-2.969082</td>\n",
       "      <td>0.008515</td>\n",
       "      <td>-0.758741</td>\n",
       "      <td>0.222836</td>\n",
       "      <td>-0.819732</td>\n",
       "      <td>-0.080693</td>\n",
       "      <td>-0.437382</td>\n",
       "      <td>0.173655</td>\n",
       "      <td>-0.537369</td>\n",
       "      <td>...</td>\n",
       "      <td>-0.171533</td>\n",
       "      <td>0.957984</td>\n",
       "      <td>0.314764</td>\n",
       "      <td>-0.138889</td>\n",
       "      <td>1.214763</td>\n",
       "      <td>-0.375762</td>\n",
       "      <td>0.001292</td>\n",
       "      <td>-0.023182</td>\n",
       "      <td>-0.931856</td>\n",
       "      <td>-6.695130e-15</td>\n",
       "    </tr>\n",
       "    <tr>\n",
       "      <th>1</th>\n",
       "      <td>-1.422389</td>\n",
       "      <td>3.031545</td>\n",
       "      <td>-2.889961</td>\n",
       "      <td>-2.058350</td>\n",
       "      <td>3.209062</td>\n",
       "      <td>1.848032</td>\n",
       "      <td>1.933170</td>\n",
       "      <td>-0.728288</td>\n",
       "      <td>1.196076</td>\n",
       "      <td>0.008489</td>\n",
       "      <td>...</td>\n",
       "      <td>-0.308170</td>\n",
       "      <td>-0.521261</td>\n",
       "      <td>-0.075761</td>\n",
       "      <td>-0.107714</td>\n",
       "      <td>0.066845</td>\n",
       "      <td>-0.106687</td>\n",
       "      <td>0.025078</td>\n",
       "      <td>0.145780</td>\n",
       "      <td>-0.932388</td>\n",
       "      <td>1.341742e-15</td>\n",
       "    </tr>\n",
       "    <tr>\n",
       "      <th>2</th>\n",
       "      <td>0.092274</td>\n",
       "      <td>-0.405955</td>\n",
       "      <td>2.833661</td>\n",
       "      <td>-1.583581</td>\n",
       "      <td>-0.337161</td>\n",
       "      <td>-2.083084</td>\n",
       "      <td>0.142646</td>\n",
       "      <td>2.892139</td>\n",
       "      <td>-0.408684</td>\n",
       "      <td>-0.068979</td>\n",
       "      <td>...</td>\n",
       "      <td>0.676441</td>\n",
       "      <td>-0.983688</td>\n",
       "      <td>0.203759</td>\n",
       "      <td>-0.117458</td>\n",
       "      <td>0.199379</td>\n",
       "      <td>0.086223</td>\n",
       "      <td>0.264594</td>\n",
       "      <td>-0.291559</td>\n",
       "      <td>-0.053934</td>\n",
       "      <td>2.440628e-14</td>\n",
       "    </tr>\n",
       "    <tr>\n",
       "      <th>3</th>\n",
       "      <td>0.767100</td>\n",
       "      <td>0.607277</td>\n",
       "      <td>-0.128636</td>\n",
       "      <td>0.323350</td>\n",
       "      <td>0.627438</td>\n",
       "      <td>-2.043069</td>\n",
       "      <td>-1.277789</td>\n",
       "      <td>-0.341761</td>\n",
       "      <td>-1.164115</td>\n",
       "      <td>1.538196</td>\n",
       "      <td>...</td>\n",
       "      <td>0.232316</td>\n",
       "      <td>1.044636</td>\n",
       "      <td>0.639579</td>\n",
       "      <td>-0.056154</td>\n",
       "      <td>-1.231965</td>\n",
       "      <td>0.135027</td>\n",
       "      <td>-0.747173</td>\n",
       "      <td>0.509202</td>\n",
       "      <td>0.012779</td>\n",
       "      <td>-1.262180e-14</td>\n",
       "    </tr>\n",
       "    <tr>\n",
       "      <th>4</th>\n",
       "      <td>-4.447377</td>\n",
       "      <td>-2.368054</td>\n",
       "      <td>-1.824174</td>\n",
       "      <td>0.686196</td>\n",
       "      <td>1.126454</td>\n",
       "      <td>0.709377</td>\n",
       "      <td>1.472043</td>\n",
       "      <td>1.489187</td>\n",
       "      <td>-0.474811</td>\n",
       "      <td>-0.183053</td>\n",
       "      <td>...</td>\n",
       "      <td>-0.141545</td>\n",
       "      <td>-0.087037</td>\n",
       "      <td>-0.203506</td>\n",
       "      <td>-0.023132</td>\n",
       "      <td>-0.105855</td>\n",
       "      <td>-0.121676</td>\n",
       "      <td>0.060256</td>\n",
       "      <td>0.075171</td>\n",
       "      <td>0.026397</td>\n",
       "      <td>-2.785378e-15</td>\n",
       "    </tr>\n",
       "  </tbody>\n",
       "</table>\n",
       "<p>5 rows × 30 columns</p>\n",
       "</div>"
      ],
      "text/plain": [
       "         0         1         2         3         4         5         6   \\\n",
       "0 -4.338365 -2.969082  0.008515 -0.758741  0.222836 -0.819732 -0.080693   \n",
       "1 -1.422389  3.031545 -2.889961 -2.058350  3.209062  1.848032  1.933170   \n",
       "2  0.092274 -0.405955  2.833661 -1.583581 -0.337161 -2.083084  0.142646   \n",
       "3  0.767100  0.607277 -0.128636  0.323350  0.627438 -2.043069 -1.277789   \n",
       "4 -4.447377 -2.368054 -1.824174  0.686196  1.126454  0.709377  1.472043   \n",
       "\n",
       "         7         8         9       ...             20        21        22  \\\n",
       "0 -0.437382  0.173655 -0.537369      ...      -0.171533  0.957984  0.314764   \n",
       "1 -0.728288  1.196076  0.008489      ...      -0.308170 -0.521261 -0.075761   \n",
       "2  2.892139 -0.408684 -0.068979      ...       0.676441 -0.983688  0.203759   \n",
       "3 -0.341761 -1.164115  1.538196      ...       0.232316  1.044636  0.639579   \n",
       "4  1.489187 -0.474811 -0.183053      ...      -0.141545 -0.087037 -0.203506   \n",
       "\n",
       "         23        24        25        26        27        28            29  \n",
       "0 -0.138889  1.214763 -0.375762  0.001292 -0.023182 -0.931856 -6.695130e-15  \n",
       "1 -0.107714  0.066845 -0.106687  0.025078  0.145780 -0.932388  1.341742e-15  \n",
       "2 -0.117458  0.199379  0.086223  0.264594 -0.291559 -0.053934  2.440628e-14  \n",
       "3 -0.056154 -1.231965  0.135027 -0.747173  0.509202  0.012779 -1.262180e-14  \n",
       "4 -0.023132 -0.105855 -0.121676  0.060256  0.075171  0.026397 -2.785378e-15  \n",
       "\n",
       "[5 rows x 30 columns]"
      ]
     },
     "execution_count": 69,
     "metadata": {},
     "output_type": "execute_result"
    }
   ],
   "source": [
    "# fitting PCA components to a data frame\n",
    "pca_CVM = CVM.fit_transform(Ec_Data1)\n",
    "pca_df = pd.DataFrame(pca_CVM)\n",
    "pca_df.head()"
   ]
  },
  {
   "cell_type": "code",
   "execution_count": 84,
   "metadata": {},
   "outputs": [
    {
     "name": "stdout",
     "output_type": "stream",
     "text": [
      "AxesSubplot(0.125,0.125;0.775x0.755)\n"
     ]
    },
    {
     "data": {
      "image/png": "[encoded data removed]",
      "text/plain": [
       "<Figure size 432x288 with 1 Axes>"
      ]
     },
     "metadata": {
      "needs_background": "light"
     },
     "output_type": "display_data"
    }
   ],
   "source": [
    "print(pca_df['pc4'].hist())\n",
    "\n"
   ]
  },
  {
   "cell_type": "code",
   "execution_count": 92,
   "metadata": {},
   "outputs": [
    {
     "data": {
      "text/plain": [
       "<matplotlib.axes._subplots.AxesSubplot at 0x14a24e866d8>"
      ]
     },
     "execution_count": 92,
     "metadata": {},
     "output_type": "execute_result"
    },
    {
     "data": {
      "image/png": "[encoded data removed]",
      "text/plain": [
       "<Figure size 432x288 with 1 Axes>"
      ]
     },
     "metadata": {
      "needs_background": "light"
     },
     "output_type": "display_data"
    }
   ],
   "source": [
    "\n",
    "\n"
   ]
  },
  {
   "cell_type": "code",
   "execution_count": 86,
   "metadata": {},
   "outputs": [
    {
     "data": {
      "text/plain": [
       "<matplotlib.axes._subplots.AxesSubplot at 0x14a271adc50>"
      ]
     },
     "execution_count": 86,
     "metadata": {},
     "output_type": "execute_result"
    },
    {
     "data": {
      "image/png": "[encoded data removed]",
      "text/plain": [
       "<Figure size 432x288 with 1 Axes>"
      ]
     },
     "metadata": {
      "needs_background": "light"
     },
     "output_type": "display_data"
    }
   ],
   "source": [
    "pca_df['pc2'].hist()\n"
   ]
  },
  {
   "cell_type": "code",
   "execution_count": 87,
   "metadata": {},
   "outputs": [
    {
     "data": {
      "text/plain": [
       "<matplotlib.axes._subplots.AxesSubplot at 0x14a27dfe860>"
      ]
     },
     "execution_count": 87,
     "metadata": {},
     "output_type": "execute_result"
    },
    {
     "data": {
      "image/png": "[encoded data removed]",
      "text/plain": [
       "<Figure size 432x288 with 1 Axes>"
      ]
     },
     "metadata": {
      "needs_background": "light"
     },
     "output_type": "display_data"
    }
   ],
   "source": [
    "pca_df['pc3'].hist()\n"
   ]
  },
  {
   "cell_type": "code",
   "execution_count": 88,
   "metadata": {},
   "outputs": [
    {
     "data": {
      "text/plain": [
       "<matplotlib.axes._subplots.AxesSubplot at 0x14a27e05860>"
      ]
     },
     "execution_count": 88,
     "metadata": {},
     "output_type": "execute_result"
    },
    {
     "data": {
      "image/png": "[encoded data removed]",
      "text/plain": [
       "<Figure size 432x288 with 1 Axes>"
      ]
     },
     "metadata": {
      "needs_background": "light"
     },
     "output_type": "display_data"
    }
   ],
   "source": [
    "pca_df['pc5'].hist()\n"
   ]
  },
  {
   "cell_type": "code",
   "execution_count": 89,
   "metadata": {},
   "outputs": [
    {
     "data": {
      "text/plain": [
       "<matplotlib.axes._subplots.AxesSubplot at 0x14a268c3eb8>"
      ]
     },
     "execution_count": 89,
     "metadata": {},
     "output_type": "execute_result"
    },
    {
     "data": {
      "image/png": "[encoded data removed]",
      "text/plain": [
       "<Figure size 432x288 with 1 Axes>"
      ]
     },
     "metadata": {
      "needs_background": "light"
     },
     "output_type": "display_data"
    }
   ],
   "source": [
    "pca_df['pc6'].hist()"
   ]
  },
  {
   "cell_type": "code",
   "execution_count": 90,
   "metadata": {},
   "outputs": [
    {
     "data": {
      "text/plain": [
       "<matplotlib.axes._subplots.AxesSubplot at 0x14a27eb2470>"
      ]
     },
     "execution_count": 90,
     "metadata": {},
     "output_type": "execute_result"
    },
    {
     "data": {
      "image/png": "[encoded data removed]",
      "text/plain": [
       "<Figure size 432x288 with 1 Axes>"
      ]
     },
     "metadata": {
      "needs_background": "light"
     },
     "output_type": "display_data"
    }
   ],
   "source": [
    "Ec_Data1['FACT__4'].hist()"
   ]
  },
  {
   "cell_type": "code",
   "execution_count": 58,
   "metadata": {},
   "outputs": [
    {
     "data": {
      "text/plain": [
       "pandas.core.frame.DataFrame"
      ]
     },
     "execution_count": 58,
     "metadata": {},
     "output_type": "execute_result"
    }
   ],
   "source": [
    "type(pca_df)"
   ]
  },
  {
   "cell_type": "code",
   "execution_count": 93,
   "metadata": {},
   "outputs": [
    {
     "data": {
      "text/html": [
       "<div>\n",
       "<style scoped>\n",
       "    .dataframe tbody tr th:only-of-type {\n",
       "        vertical-align: middle;\n",
       "    }\n",
       "\n",
       "    .dataframe tbody tr th {\n",
       "        vertical-align: top;\n",
       "    }\n",
       "\n",
       "    .dataframe thead th {\n",
       "        text-align: right;\n",
       "    }\n",
       "</style>\n",
       "<table border=\"1\" class=\"dataframe\">\n",
       "  <thead>\n",
       "    <tr style=\"text-align: right;\">\n",
       "      <th></th>\n",
       "      <th>pc1</th>\n",
       "      <th>pc2</th>\n",
       "      <th>pc3</th>\n",
       "      <th>pc4</th>\n",
       "      <th>pc5</th>\n",
       "      <th>pc6</th>\n",
       "      <th>pc7</th>\n",
       "      <th>pc8</th>\n",
       "      <th>pc9</th>\n",
       "      <th>pc10</th>\n",
       "      <th>pc11</th>\n",
       "      <th>pc12</th>\n",
       "      <th>pc13</th>\n",
       "      <th>pc14</th>\n",
       "      <th>pc15</th>\n",
       "    </tr>\n",
       "  </thead>\n",
       "  <tbody>\n",
       "    <tr>\n",
       "      <th>0</th>\n",
       "      <td>-4.338365</td>\n",
       "      <td>-2.969082</td>\n",
       "      <td>0.008515</td>\n",
       "      <td>-0.758741</td>\n",
       "      <td>0.222836</td>\n",
       "      <td>-0.819732</td>\n",
       "      <td>-0.080693</td>\n",
       "      <td>-0.437382</td>\n",
       "      <td>0.173655</td>\n",
       "      <td>-0.537369</td>\n",
       "      <td>-0.129346</td>\n",
       "      <td>-0.418626</td>\n",
       "      <td>0.139652</td>\n",
       "      <td>-0.530879</td>\n",
       "      <td>0.698059</td>\n",
       "    </tr>\n",
       "    <tr>\n",
       "      <th>1</th>\n",
       "      <td>-1.422389</td>\n",
       "      <td>3.031545</td>\n",
       "      <td>-2.889961</td>\n",
       "      <td>-2.058350</td>\n",
       "      <td>3.209062</td>\n",
       "      <td>1.848032</td>\n",
       "      <td>1.933170</td>\n",
       "      <td>-0.728288</td>\n",
       "      <td>1.196076</td>\n",
       "      <td>0.008489</td>\n",
       "      <td>1.749405</td>\n",
       "      <td>-1.070217</td>\n",
       "      <td>-0.081314</td>\n",
       "      <td>0.524728</td>\n",
       "      <td>0.431612</td>\n",
       "    </tr>\n",
       "    <tr>\n",
       "      <th>2</th>\n",
       "      <td>0.092274</td>\n",
       "      <td>-0.405955</td>\n",
       "      <td>2.833661</td>\n",
       "      <td>-1.583581</td>\n",
       "      <td>-0.337161</td>\n",
       "      <td>-2.083084</td>\n",
       "      <td>0.142646</td>\n",
       "      <td>2.892139</td>\n",
       "      <td>-0.408684</td>\n",
       "      <td>-0.068979</td>\n",
       "      <td>-2.304341</td>\n",
       "      <td>-0.916966</td>\n",
       "      <td>-1.247947</td>\n",
       "      <td>-0.825535</td>\n",
       "      <td>1.041889</td>\n",
       "    </tr>\n",
       "    <tr>\n",
       "      <th>3</th>\n",
       "      <td>0.767100</td>\n",
       "      <td>0.607277</td>\n",
       "      <td>-0.128636</td>\n",
       "      <td>0.323350</td>\n",
       "      <td>0.627438</td>\n",
       "      <td>-2.043069</td>\n",
       "      <td>-1.277789</td>\n",
       "      <td>-0.341761</td>\n",
       "      <td>-1.164115</td>\n",
       "      <td>1.538196</td>\n",
       "      <td>-1.360772</td>\n",
       "      <td>0.102380</td>\n",
       "      <td>0.884205</td>\n",
       "      <td>1.019611</td>\n",
       "      <td>-0.449465</td>\n",
       "    </tr>\n",
       "    <tr>\n",
       "      <th>4</th>\n",
       "      <td>-4.447377</td>\n",
       "      <td>-2.368054</td>\n",
       "      <td>-1.824174</td>\n",
       "      <td>0.686196</td>\n",
       "      <td>1.126454</td>\n",
       "      <td>0.709377</td>\n",
       "      <td>1.472043</td>\n",
       "      <td>1.489187</td>\n",
       "      <td>-0.474811</td>\n",
       "      <td>-0.183053</td>\n",
       "      <td>-0.064047</td>\n",
       "      <td>-0.134109</td>\n",
       "      <td>0.272737</td>\n",
       "      <td>-0.439349</td>\n",
       "      <td>0.068214</td>\n",
       "    </tr>\n",
       "  </tbody>\n",
       "</table>\n",
       "</div>"
      ],
      "text/plain": [
       "        pc1       pc2       pc3       pc4       pc5       pc6       pc7  \\\n",
       "0 -4.338365 -2.969082  0.008515 -0.758741  0.222836 -0.819732 -0.080693   \n",
       "1 -1.422389  3.031545 -2.889961 -2.058350  3.209062  1.848032  1.933170   \n",
       "2  0.092274 -0.405955  2.833661 -1.583581 -0.337161 -2.083084  0.142646   \n",
       "3  0.767100  0.607277 -0.128636  0.323350  0.627438 -2.043069 -1.277789   \n",
       "4 -4.447377 -2.368054 -1.824174  0.686196  1.126454  0.709377  1.472043   \n",
       "\n",
       "        pc8       pc9      pc10      pc11      pc12      pc13      pc14  \\\n",
       "0 -0.437382  0.173655 -0.537369 -0.129346 -0.418626  0.139652 -0.530879   \n",
       "1 -0.728288  1.196076  0.008489  1.749405 -1.070217 -0.081314  0.524728   \n",
       "2  2.892139 -0.408684 -0.068979 -2.304341 -0.916966 -1.247947 -0.825535   \n",
       "3 -0.341761 -1.164115  1.538196 -1.360772  0.102380  0.884205  1.019611   \n",
       "4  1.489187 -0.474811 -0.183053 -0.064047 -0.134109  0.272737 -0.439349   \n",
       "\n",
       "       pc15  \n",
       "0  0.698059  \n",
       "1  0.431612  \n",
       "2  1.041889  \n",
       "3 -0.449465  \n",
       "4  0.068214  "
      ]
     },
     "execution_count": 93,
     "metadata": {},
     "output_type": "execute_result"
    }
   ],
   "source": [
    "# Re running PCA with required columns\n",
    "Req_Df =  pd.DataFrame()\n",
    "Req_Df = pca_df.drop(['pc16', 'pc17', 'pc18', 'pc19','pc20', 'pc21', 'pc22', 'pc23', 'pc24', 'pc25', 'pc26', 'pc27', 'pc28',\n",
    "                      'pc29', 'pc30'],axis=1)\n",
    "Req_Df.head()"
   ]
  },
  {
   "cell_type": "code",
   "execution_count": 97,
   "metadata": {},
   "outputs": [
    {
     "data": {
      "text/plain": [
       "Index(['CBB_9', 'CBB_10', 'CBB_11', 'CBB_12', 'CBB_13', 'CBB_14'], dtype='object')"
      ]
     },
     "execution_count": 97,
     "metadata": {},
     "output_type": "execute_result"
    }
   ],
   "source": [
    "# shaping data frame without demograhic & pca comopents\n",
    "EC_NoDemo = Ey_Data.drop(['Gender','Marital status','age group','Educatuon','income','Job','Area',\"FACT__1\",\"FACT__2\",\"FACT__3\",\"FACT__4\",\"FACT__5\",\"FACT__6\",\"FACT__7\",\"FACT__8\",\"FACT__9\",\"FACT__10\",\"FACT__11\",\"FACT__12\",\"FACT__13\",\"FACT__14\",\"FACT__15\",\"FACT__16\",\"FACT__17\",\"FACT__18\",\"FACT__19\",\"FACT__20\",\"FACT__21\",\"FACT__22\",\"FACT__23\",\"FACT__24\",\"FACT__25\",\"FACT__26\",\"FACT__27\",\"FACT__28\",\"FACT__29\",\"FACT__30\"],axis=1)\n",
    "EC_NoDemo.columns\n"
   ]
  },
  {
   "cell_type": "code",
   "execution_count": 96,
   "metadata": {},
   "outputs": [
    {
     "data": {
      "text/html": [
       "<div>\n",
       "<style scoped>\n",
       "    .dataframe tbody tr th:only-of-type {\n",
       "        vertical-align: middle;\n",
       "    }\n",
       "\n",
       "    .dataframe tbody tr th {\n",
       "        vertical-align: top;\n",
       "    }\n",
       "\n",
       "    .dataframe thead th {\n",
       "        text-align: right;\n",
       "    }\n",
       "</style>\n",
       "<table border=\"1\" class=\"dataframe\">\n",
       "  <thead>\n",
       "    <tr style=\"text-align: right;\">\n",
       "      <th></th>\n",
       "      <th>pc1</th>\n",
       "      <th>pc2</th>\n",
       "      <th>pc3</th>\n",
       "      <th>pc4</th>\n",
       "      <th>pc5</th>\n",
       "      <th>pc6</th>\n",
       "      <th>pc7</th>\n",
       "      <th>pc8</th>\n",
       "      <th>pc9</th>\n",
       "      <th>pc10</th>\n",
       "      <th>...</th>\n",
       "      <th>pc12</th>\n",
       "      <th>pc13</th>\n",
       "      <th>pc14</th>\n",
       "      <th>pc15</th>\n",
       "      <th>CBB_9</th>\n",
       "      <th>CBB_10</th>\n",
       "      <th>CBB_11</th>\n",
       "      <th>CBB_12</th>\n",
       "      <th>CBB_13</th>\n",
       "      <th>CBB_14</th>\n",
       "    </tr>\n",
       "  </thead>\n",
       "  <tbody>\n",
       "    <tr>\n",
       "      <th>0</th>\n",
       "      <td>-4.338365</td>\n",
       "      <td>-2.969082</td>\n",
       "      <td>0.008515</td>\n",
       "      <td>-0.758741</td>\n",
       "      <td>0.222836</td>\n",
       "      <td>-0.819732</td>\n",
       "      <td>-0.080693</td>\n",
       "      <td>-0.437382</td>\n",
       "      <td>0.173655</td>\n",
       "      <td>-0.537369</td>\n",
       "      <td>...</td>\n",
       "      <td>-0.418626</td>\n",
       "      <td>0.139652</td>\n",
       "      <td>-0.530879</td>\n",
       "      <td>0.698059</td>\n",
       "      <td>4</td>\n",
       "      <td>2</td>\n",
       "      <td>0</td>\n",
       "      <td>3</td>\n",
       "      <td>4</td>\n",
       "      <td>0</td>\n",
       "    </tr>\n",
       "    <tr>\n",
       "      <th>1</th>\n",
       "      <td>-1.422389</td>\n",
       "      <td>3.031545</td>\n",
       "      <td>-2.889961</td>\n",
       "      <td>-2.058350</td>\n",
       "      <td>3.209062</td>\n",
       "      <td>1.848032</td>\n",
       "      <td>1.933170</td>\n",
       "      <td>-0.728288</td>\n",
       "      <td>1.196076</td>\n",
       "      <td>0.008489</td>\n",
       "      <td>...</td>\n",
       "      <td>-1.070217</td>\n",
       "      <td>-0.081314</td>\n",
       "      <td>0.524728</td>\n",
       "      <td>0.431612</td>\n",
       "      <td>4</td>\n",
       "      <td>2</td>\n",
       "      <td>1</td>\n",
       "      <td>3</td>\n",
       "      <td>0</td>\n",
       "      <td>2</td>\n",
       "    </tr>\n",
       "    <tr>\n",
       "      <th>2</th>\n",
       "      <td>0.092274</td>\n",
       "      <td>-0.405955</td>\n",
       "      <td>2.833661</td>\n",
       "      <td>-1.583581</td>\n",
       "      <td>-0.337161</td>\n",
       "      <td>-2.083084</td>\n",
       "      <td>0.142646</td>\n",
       "      <td>2.892139</td>\n",
       "      <td>-0.408684</td>\n",
       "      <td>-0.068979</td>\n",
       "      <td>...</td>\n",
       "      <td>-0.916966</td>\n",
       "      <td>-1.247947</td>\n",
       "      <td>-0.825535</td>\n",
       "      <td>1.041889</td>\n",
       "      <td>3</td>\n",
       "      <td>1</td>\n",
       "      <td>0</td>\n",
       "      <td>3</td>\n",
       "      <td>4</td>\n",
       "      <td>2</td>\n",
       "    </tr>\n",
       "    <tr>\n",
       "      <th>3</th>\n",
       "      <td>0.767100</td>\n",
       "      <td>0.607277</td>\n",
       "      <td>-0.128636</td>\n",
       "      <td>0.323350</td>\n",
       "      <td>0.627438</td>\n",
       "      <td>-2.043069</td>\n",
       "      <td>-1.277789</td>\n",
       "      <td>-0.341761</td>\n",
       "      <td>-1.164115</td>\n",
       "      <td>1.538196</td>\n",
       "      <td>...</td>\n",
       "      <td>0.102380</td>\n",
       "      <td>0.884205</td>\n",
       "      <td>1.019611</td>\n",
       "      <td>-0.449465</td>\n",
       "      <td>3</td>\n",
       "      <td>1</td>\n",
       "      <td>0</td>\n",
       "      <td>0</td>\n",
       "      <td>4</td>\n",
       "      <td>1</td>\n",
       "    </tr>\n",
       "    <tr>\n",
       "      <th>4</th>\n",
       "      <td>-4.447377</td>\n",
       "      <td>-2.368054</td>\n",
       "      <td>-1.824174</td>\n",
       "      <td>0.686196</td>\n",
       "      <td>1.126454</td>\n",
       "      <td>0.709377</td>\n",
       "      <td>1.472043</td>\n",
       "      <td>1.489187</td>\n",
       "      <td>-0.474811</td>\n",
       "      <td>-0.183053</td>\n",
       "      <td>...</td>\n",
       "      <td>-0.134109</td>\n",
       "      <td>0.272737</td>\n",
       "      <td>-0.439349</td>\n",
       "      <td>0.068214</td>\n",
       "      <td>4</td>\n",
       "      <td>2</td>\n",
       "      <td>1</td>\n",
       "      <td>3</td>\n",
       "      <td>4</td>\n",
       "      <td>2</td>\n",
       "    </tr>\n",
       "  </tbody>\n",
       "</table>\n",
       "<p>5 rows × 21 columns</p>\n",
       "</div>"
      ],
      "text/plain": [
       "        pc1       pc2       pc3       pc4       pc5       pc6       pc7  \\\n",
       "0 -4.338365 -2.969082  0.008515 -0.758741  0.222836 -0.819732 -0.080693   \n",
       "1 -1.422389  3.031545 -2.889961 -2.058350  3.209062  1.848032  1.933170   \n",
       "2  0.092274 -0.405955  2.833661 -1.583581 -0.337161 -2.083084  0.142646   \n",
       "3  0.767100  0.607277 -0.128636  0.323350  0.627438 -2.043069 -1.277789   \n",
       "4 -4.447377 -2.368054 -1.824174  0.686196  1.126454  0.709377  1.472043   \n",
       "\n",
       "        pc8       pc9      pc10   ...        pc12      pc13      pc14  \\\n",
       "0 -0.437382  0.173655 -0.537369   ...   -0.418626  0.139652 -0.530879   \n",
       "1 -0.728288  1.196076  0.008489   ...   -1.070217 -0.081314  0.524728   \n",
       "2  2.892139 -0.408684 -0.068979   ...   -0.916966 -1.247947 -0.825535   \n",
       "3 -0.341761 -1.164115  1.538196   ...    0.102380  0.884205  1.019611   \n",
       "4  1.489187 -0.474811 -0.183053   ...   -0.134109  0.272737 -0.439349   \n",
       "\n",
       "       pc15  CBB_9  CBB_10  CBB_11  CBB_12  CBB_13  CBB_14  \n",
       "0  0.698059      4       2       0       3       4       0  \n",
       "1  0.431612      4       2       1       3       0       2  \n",
       "2  1.041889      3       1       0       3       4       2  \n",
       "3 -0.449465      3       1       0       0       4       1  \n",
       "4  0.068214      4       2       1       3       4       2  \n",
       "\n",
       "[5 rows x 21 columns]"
      ]
     },
     "execution_count": 96,
     "metadata": {},
     "output_type": "execute_result"
    }
   ],
   "source": [
    "# creating data frame with PCA components\n",
    "Ec_New = pd.concat([Req_Df,EC_NoDemo],axis=1)\n",
    "Ec_New.head()"
   ]
  },
  {
   "cell_type": "markdown",
   "metadata": {},
   "source": [
    "# Model For Gender"
   ]
  },
  {
   "cell_type": "markdown",
   "metadata": {},
   "source": [
    "# PCA Visualization  Boxplot Histograms \n"
   ]
  },
  {
   "cell_type": "code",
   "execution_count": 100,
   "metadata": {},
   "outputs": [
    {
     "data": {
      "text/plain": [
       "<matplotlib.axes._subplots.AxesSubplot at 0x14a27f01748>"
      ]
     },
     "execution_count": 100,
     "metadata": {},
     "output_type": "execute_result"
    },
    {
     "data": {
      "image/png": "[encoded data removed]",
      "text/plain": [
       "<Figure size 432x288 with 1 Axes>"
      ]
     },
     "metadata": {
      "needs_background": "light"
     },
     "output_type": "display_data"
    }
   ],
   "source": [
    "pca_df['pc2'].hist()\n",
    "pca_df['pc3'].hist()\n",
    "pca_df['pc4'].hist()\n",
    "pca_df['pc5'].hist()\n",
    "pca_df['pc6'].hist()\n",
    "pca_df['pc7'].hist()"
   ]
  },
  {
   "cell_type": "code",
   "execution_count": 103,
   "metadata": {},
   "outputs": [
    {
     "data": {
      "text/html": [
       "<div>\n",
       "<style scoped>\n",
       "    .dataframe tbody tr th:only-of-type {\n",
       "        vertical-align: middle;\n",
       "    }\n",
       "\n",
       "    .dataframe tbody tr th {\n",
       "        vertical-align: top;\n",
       "    }\n",
       "\n",
       "    .dataframe thead th {\n",
       "        text-align: right;\n",
       "    }\n",
       "</style>\n",
       "<table border=\"1\" class=\"dataframe\">\n",
       "  <thead>\n",
       "    <tr style=\"text-align: right;\">\n",
       "      <th></th>\n",
       "      <th>pc1</th>\n",
       "      <th>pc2</th>\n",
       "      <th>pc3</th>\n",
       "      <th>pc4</th>\n",
       "      <th>pc5</th>\n",
       "      <th>pc6</th>\n",
       "      <th>pc7</th>\n",
       "      <th>pc8</th>\n",
       "      <th>pc9</th>\n",
       "      <th>pc10</th>\n",
       "      <th>...</th>\n",
       "      <th>pc13</th>\n",
       "      <th>pc14</th>\n",
       "      <th>pc15</th>\n",
       "      <th>CBB_9</th>\n",
       "      <th>CBB_10</th>\n",
       "      <th>CBB_11</th>\n",
       "      <th>CBB_12</th>\n",
       "      <th>CBB_13</th>\n",
       "      <th>CBB_14</th>\n",
       "      <th>Gender</th>\n",
       "    </tr>\n",
       "  </thead>\n",
       "  <tbody>\n",
       "    <tr>\n",
       "      <th>0</th>\n",
       "      <td>-4.338365</td>\n",
       "      <td>-2.969082</td>\n",
       "      <td>0.008515</td>\n",
       "      <td>-0.758741</td>\n",
       "      <td>0.222836</td>\n",
       "      <td>-0.819732</td>\n",
       "      <td>-0.080693</td>\n",
       "      <td>-0.437382</td>\n",
       "      <td>0.173655</td>\n",
       "      <td>-0.537369</td>\n",
       "      <td>...</td>\n",
       "      <td>0.139652</td>\n",
       "      <td>-0.530879</td>\n",
       "      <td>0.698059</td>\n",
       "      <td>4</td>\n",
       "      <td>2</td>\n",
       "      <td>0</td>\n",
       "      <td>3</td>\n",
       "      <td>4</td>\n",
       "      <td>0</td>\n",
       "      <td>0</td>\n",
       "    </tr>\n",
       "    <tr>\n",
       "      <th>1</th>\n",
       "      <td>-1.422389</td>\n",
       "      <td>3.031545</td>\n",
       "      <td>-2.889961</td>\n",
       "      <td>-2.058350</td>\n",
       "      <td>3.209062</td>\n",
       "      <td>1.848032</td>\n",
       "      <td>1.933170</td>\n",
       "      <td>-0.728288</td>\n",
       "      <td>1.196076</td>\n",
       "      <td>0.008489</td>\n",
       "      <td>...</td>\n",
       "      <td>-0.081314</td>\n",
       "      <td>0.524728</td>\n",
       "      <td>0.431612</td>\n",
       "      <td>4</td>\n",
       "      <td>2</td>\n",
       "      <td>1</td>\n",
       "      <td>3</td>\n",
       "      <td>0</td>\n",
       "      <td>2</td>\n",
       "      <td>0</td>\n",
       "    </tr>\n",
       "    <tr>\n",
       "      <th>2</th>\n",
       "      <td>0.092274</td>\n",
       "      <td>-0.405955</td>\n",
       "      <td>2.833661</td>\n",
       "      <td>-1.583581</td>\n",
       "      <td>-0.337161</td>\n",
       "      <td>-2.083084</td>\n",
       "      <td>0.142646</td>\n",
       "      <td>2.892139</td>\n",
       "      <td>-0.408684</td>\n",
       "      <td>-0.068979</td>\n",
       "      <td>...</td>\n",
       "      <td>-1.247947</td>\n",
       "      <td>-0.825535</td>\n",
       "      <td>1.041889</td>\n",
       "      <td>3</td>\n",
       "      <td>1</td>\n",
       "      <td>0</td>\n",
       "      <td>3</td>\n",
       "      <td>4</td>\n",
       "      <td>2</td>\n",
       "      <td>0</td>\n",
       "    </tr>\n",
       "    <tr>\n",
       "      <th>3</th>\n",
       "      <td>0.767100</td>\n",
       "      <td>0.607277</td>\n",
       "      <td>-0.128636</td>\n",
       "      <td>0.323350</td>\n",
       "      <td>0.627438</td>\n",
       "      <td>-2.043069</td>\n",
       "      <td>-1.277789</td>\n",
       "      <td>-0.341761</td>\n",
       "      <td>-1.164115</td>\n",
       "      <td>1.538196</td>\n",
       "      <td>...</td>\n",
       "      <td>0.884205</td>\n",
       "      <td>1.019611</td>\n",
       "      <td>-0.449465</td>\n",
       "      <td>3</td>\n",
       "      <td>1</td>\n",
       "      <td>0</td>\n",
       "      <td>0</td>\n",
       "      <td>4</td>\n",
       "      <td>1</td>\n",
       "      <td>0</td>\n",
       "    </tr>\n",
       "    <tr>\n",
       "      <th>4</th>\n",
       "      <td>-4.447377</td>\n",
       "      <td>-2.368054</td>\n",
       "      <td>-1.824174</td>\n",
       "      <td>0.686196</td>\n",
       "      <td>1.126454</td>\n",
       "      <td>0.709377</td>\n",
       "      <td>1.472043</td>\n",
       "      <td>1.489187</td>\n",
       "      <td>-0.474811</td>\n",
       "      <td>-0.183053</td>\n",
       "      <td>...</td>\n",
       "      <td>0.272737</td>\n",
       "      <td>-0.439349</td>\n",
       "      <td>0.068214</td>\n",
       "      <td>4</td>\n",
       "      <td>2</td>\n",
       "      <td>1</td>\n",
       "      <td>3</td>\n",
       "      <td>4</td>\n",
       "      <td>2</td>\n",
       "      <td>0</td>\n",
       "    </tr>\n",
       "  </tbody>\n",
       "</table>\n",
       "<p>5 rows × 22 columns</p>\n",
       "</div>"
      ],
      "text/plain": [
       "        pc1       pc2       pc3       pc4       pc5       pc6       pc7  \\\n",
       "0 -4.338365 -2.969082  0.008515 -0.758741  0.222836 -0.819732 -0.080693   \n",
       "1 -1.422389  3.031545 -2.889961 -2.058350  3.209062  1.848032  1.933170   \n",
       "2  0.092274 -0.405955  2.833661 -1.583581 -0.337161 -2.083084  0.142646   \n",
       "3  0.767100  0.607277 -0.128636  0.323350  0.627438 -2.043069 -1.277789   \n",
       "4 -4.447377 -2.368054 -1.824174  0.686196  1.126454  0.709377  1.472043   \n",
       "\n",
       "        pc8       pc9      pc10   ...        pc13      pc14      pc15  CBB_9  \\\n",
       "0 -0.437382  0.173655 -0.537369   ...    0.139652 -0.530879  0.698059      4   \n",
       "1 -0.728288  1.196076  0.008489   ...   -0.081314  0.524728  0.431612      4   \n",
       "2  2.892139 -0.408684 -0.068979   ...   -1.247947 -0.825535  1.041889      3   \n",
       "3 -0.341761 -1.164115  1.538196   ...    0.884205  1.019611 -0.449465      3   \n",
       "4  1.489187 -0.474811 -0.183053   ...    0.272737 -0.439349  0.068214      4   \n",
       "\n",
       "   CBB_10  CBB_11  CBB_12  CBB_13  CBB_14  Gender  \n",
       "0       2       0       3       4       0       0  \n",
       "1       2       1       3       0       2       0  \n",
       "2       1       0       3       4       2       0  \n",
       "3       1       0       0       4       1       0  \n",
       "4       2       1       3       4       2       0  \n",
       "\n",
       "[5 rows x 22 columns]"
      ]
     },
     "execution_count": 103,
     "metadata": {},
     "output_type": "execute_result"
    }
   ],
   "source": [
    "# Adding required demographic variable & build the model in Ec_Data1\n",
    "Ec_Gender = pd.concat([Ec_New,Ey_Data[['Gender']]],axis=1)\n",
    "Ec_Gender.head()"
   ]
  },
  {
   "cell_type": "code",
   "execution_count": 110,
   "metadata": {},
   "outputs": [
    {
     "ename": "SyntaxError",
     "evalue": "invalid syntax (<ipython-input-110-842bfb43f474>, line 4)",
     "output_type": "error",
     "traceback": [
      "\u001b[1;36m  File \u001b[1;32m\"<ipython-input-110-842bfb43f474>\"\u001b[1;36m, line \u001b[1;32m4\u001b[0m\n\u001b[1;33m    from sklearn.cross_validation\u001b[0m\n\u001b[1;37m                                  ^\u001b[0m\n\u001b[1;31mSyntaxError\u001b[0m\u001b[1;31m:\u001b[0m invalid syntax\n"
     ]
    }
   ],
   "source": [
    "# Bulding model\n",
    "X= Ec_Gender[['CBB_9','CBB_10','CBB_11','CBB_12','CBB_13','CBB_14','pc1','pc2','pc3','pc4','pc5','pc6','pc7','pc8','pc9','pc10','pc11','pc12','pc13','pc14','pc15']]\n",
    "y=Ec_Gender['Gender']\n",
    "from sklearn.cross_validation \n",
    "import train_test_split\n",
    "X_train,X_test,y_train,y_test =  train_test_split(X,y,test_size=0.3,random_state=101)"
   ]
  },
  {
   "cell_type": "code",
   "execution_count": 106,
   "metadata": {},
   "outputs": [
    {
     "data": {
      "text/html": [
       "<div>\n",
       "<style scoped>\n",
       "    .dataframe tbody tr th:only-of-type {\n",
       "        vertical-align: middle;\n",
       "    }\n",
       "\n",
       "    .dataframe tbody tr th {\n",
       "        vertical-align: top;\n",
       "    }\n",
       "\n",
       "    .dataframe thead th {\n",
       "        text-align: right;\n",
       "    }\n",
       "</style>\n",
       "<table border=\"1\" class=\"dataframe\">\n",
       "  <thead>\n",
       "    <tr style=\"text-align: right;\">\n",
       "      <th></th>\n",
       "      <th>CBB_9</th>\n",
       "      <th>CBB_10</th>\n",
       "      <th>CBB_11</th>\n",
       "      <th>CBB_12</th>\n",
       "      <th>CBB_13</th>\n",
       "      <th>CBB_14</th>\n",
       "      <th>pc1</th>\n",
       "      <th>pc2</th>\n",
       "      <th>pc3</th>\n",
       "      <th>pc4</th>\n",
       "      <th>...</th>\n",
       "      <th>pc6</th>\n",
       "      <th>pc7</th>\n",
       "      <th>pc8</th>\n",
       "      <th>pc9</th>\n",
       "      <th>pc10</th>\n",
       "      <th>pc11</th>\n",
       "      <th>pc12</th>\n",
       "      <th>pc13</th>\n",
       "      <th>pc14</th>\n",
       "      <th>pc15</th>\n",
       "    </tr>\n",
       "  </thead>\n",
       "  <tbody>\n",
       "    <tr>\n",
       "      <th>0</th>\n",
       "      <td>4</td>\n",
       "      <td>2</td>\n",
       "      <td>0</td>\n",
       "      <td>3</td>\n",
       "      <td>4</td>\n",
       "      <td>0</td>\n",
       "      <td>-4.338365</td>\n",
       "      <td>-2.969082</td>\n",
       "      <td>0.008515</td>\n",
       "      <td>-0.758741</td>\n",
       "      <td>...</td>\n",
       "      <td>-0.819732</td>\n",
       "      <td>-0.080693</td>\n",
       "      <td>-0.437382</td>\n",
       "      <td>0.173655</td>\n",
       "      <td>-0.537369</td>\n",
       "      <td>-0.129346</td>\n",
       "      <td>-0.418626</td>\n",
       "      <td>0.139652</td>\n",
       "      <td>-0.530879</td>\n",
       "      <td>0.698059</td>\n",
       "    </tr>\n",
       "    <tr>\n",
       "      <th>1</th>\n",
       "      <td>4</td>\n",
       "      <td>2</td>\n",
       "      <td>1</td>\n",
       "      <td>3</td>\n",
       "      <td>0</td>\n",
       "      <td>2</td>\n",
       "      <td>-1.422389</td>\n",
       "      <td>3.031545</td>\n",
       "      <td>-2.889961</td>\n",
       "      <td>-2.058350</td>\n",
       "      <td>...</td>\n",
       "      <td>1.848032</td>\n",
       "      <td>1.933170</td>\n",
       "      <td>-0.728288</td>\n",
       "      <td>1.196076</td>\n",
       "      <td>0.008489</td>\n",
       "      <td>1.749405</td>\n",
       "      <td>-1.070217</td>\n",
       "      <td>-0.081314</td>\n",
       "      <td>0.524728</td>\n",
       "      <td>0.431612</td>\n",
       "    </tr>\n",
       "    <tr>\n",
       "      <th>2</th>\n",
       "      <td>3</td>\n",
       "      <td>1</td>\n",
       "      <td>0</td>\n",
       "      <td>3</td>\n",
       "      <td>4</td>\n",
       "      <td>2</td>\n",
       "      <td>0.092274</td>\n",
       "      <td>-0.405955</td>\n",
       "      <td>2.833661</td>\n",
       "      <td>-1.583581</td>\n",
       "      <td>...</td>\n",
       "      <td>-2.083084</td>\n",
       "      <td>0.142646</td>\n",
       "      <td>2.892139</td>\n",
       "      <td>-0.408684</td>\n",
       "      <td>-0.068979</td>\n",
       "      <td>-2.304341</td>\n",
       "      <td>-0.916966</td>\n",
       "      <td>-1.247947</td>\n",
       "      <td>-0.825535</td>\n",
       "      <td>1.041889</td>\n",
       "    </tr>\n",
       "    <tr>\n",
       "      <th>3</th>\n",
       "      <td>3</td>\n",
       "      <td>1</td>\n",
       "      <td>0</td>\n",
       "      <td>0</td>\n",
       "      <td>4</td>\n",
       "      <td>1</td>\n",
       "      <td>0.767100</td>\n",
       "      <td>0.607277</td>\n",
       "      <td>-0.128636</td>\n",
       "      <td>0.323350</td>\n",
       "      <td>...</td>\n",
       "      <td>-2.043069</td>\n",
       "      <td>-1.277789</td>\n",
       "      <td>-0.341761</td>\n",
       "      <td>-1.164115</td>\n",
       "      <td>1.538196</td>\n",
       "      <td>-1.360772</td>\n",
       "      <td>0.102380</td>\n",
       "      <td>0.884205</td>\n",
       "      <td>1.019611</td>\n",
       "      <td>-0.449465</td>\n",
       "    </tr>\n",
       "    <tr>\n",
       "      <th>4</th>\n",
       "      <td>4</td>\n",
       "      <td>2</td>\n",
       "      <td>1</td>\n",
       "      <td>3</td>\n",
       "      <td>4</td>\n",
       "      <td>2</td>\n",
       "      <td>-4.447377</td>\n",
       "      <td>-2.368054</td>\n",
       "      <td>-1.824174</td>\n",
       "      <td>0.686196</td>\n",
       "      <td>...</td>\n",
       "      <td>0.709377</td>\n",
       "      <td>1.472043</td>\n",
       "      <td>1.489187</td>\n",
       "      <td>-0.474811</td>\n",
       "      <td>-0.183053</td>\n",
       "      <td>-0.064047</td>\n",
       "      <td>-0.134109</td>\n",
       "      <td>0.272737</td>\n",
       "      <td>-0.439349</td>\n",
       "      <td>0.068214</td>\n",
       "    </tr>\n",
       "  </tbody>\n",
       "</table>\n",
       "<p>5 rows × 21 columns</p>\n",
       "</div>"
      ],
      "text/plain": [
       "   CBB_9  CBB_10  CBB_11  CBB_12  CBB_13  CBB_14       pc1       pc2  \\\n",
       "0      4       2       0       3       4       0 -4.338365 -2.969082   \n",
       "1      4       2       1       3       0       2 -1.422389  3.031545   \n",
       "2      3       1       0       3       4       2  0.092274 -0.405955   \n",
       "3      3       1       0       0       4       1  0.767100  0.607277   \n",
       "4      4       2       1       3       4       2 -4.447377 -2.368054   \n",
       "\n",
       "        pc3       pc4    ...          pc6       pc7       pc8       pc9  \\\n",
       "0  0.008515 -0.758741    ...    -0.819732 -0.080693 -0.437382  0.173655   \n",
       "1 -2.889961 -2.058350    ...     1.848032  1.933170 -0.728288  1.196076   \n",
       "2  2.833661 -1.583581    ...    -2.083084  0.142646  2.892139 -0.408684   \n",
       "3 -0.128636  0.323350    ...    -2.043069 -1.277789 -0.341761 -1.164115   \n",
       "4 -1.824174  0.686196    ...     0.709377  1.472043  1.489187 -0.474811   \n",
       "\n",
       "       pc10      pc11      pc12      pc13      pc14      pc15  \n",
       "0 -0.537369 -0.129346 -0.418626  0.139652 -0.530879  0.698059  \n",
       "1  0.008489  1.749405 -1.070217 -0.081314  0.524728  0.431612  \n",
       "2 -0.068979 -2.304341 -0.916966 -1.247947 -0.825535  1.041889  \n",
       "3  1.538196 -1.360772  0.102380  0.884205  1.019611 -0.449465  \n",
       "4 -0.183053 -0.064047 -0.134109  0.272737 -0.439349  0.068214  \n",
       "\n",
       "[5 rows x 21 columns]"
      ]
     },
     "execution_count": 106,
     "metadata": {},
     "output_type": "execute_result"
    }
   ],
   "source": [
    "X.head()"
   ]
  },
  {
   "cell_type": "code",
   "execution_count": 107,
   "metadata": {},
   "outputs": [
    {
     "data": {
      "text/plain": [
       "0    0\n",
       "1    0\n",
       "2    0\n",
       "3    0\n",
       "4    0\n",
       "Name: Gender, dtype: int64"
      ]
     },
     "execution_count": 107,
     "metadata": {},
     "output_type": "execute_result"
    }
   ],
   "source": [
    "y.head()"
   ]
  },
  {
   "cell_type": "markdown",
   "metadata": {},
   "source": [
    "# Logistic for Gender"
   ]
  },
  {
   "cell_type": "code",
   "execution_count": 37,
   "metadata": {},
   "outputs": [
    {
     "data": {
      "text/plain": [
       "LogisticRegression(C=1.0, class_weight=None, dual=False, fit_intercept=True,\n",
       "          intercept_scaling=1, max_iter=100, multi_class='ovr', n_jobs=1,\n",
       "          penalty='l2', random_state=None, solver='liblinear', tol=0.0001,\n",
       "          verbose=0, warm_start=False)"
      ]
     },
     "execution_count": 37,
     "metadata": {},
     "output_type": "execute_result"
    }
   ],
   "source": [
    "logmodel = LogisticRegression()\n",
    "logmodel.fit(X_train,y_train)"
   ]
  },
  {
   "cell_type": "code",
   "execution_count": 41,
   "metadata": {},
   "outputs": [
    {
     "name": "stdout",
     "output_type": "stream",
     "text": [
      "[1 1 1 1 0 0 0 1 1 1 0 0 1 1 0 1 0 0 0 1 1 1 1 1 0 0 1 1 0 0 1 1 1 1 1 0 1\n",
      " 0 1 0 1 1 1 1 1 0 0 0 0 0 1 0 0 0 1 1 0 0 1 0 0 1 1 1 0 1 1 1 1 1 1 1 1 1\n",
      " 0 1 0 1 1 1 1 0 1 1 1 0 0 0 1 1 0 0 0 1 0 1 1 1 1 1 1 0 1 1 1 0 0 1 1 1 0\n",
      " 0 1 1 1 0 1 1 0 1 1 0 1 1 0 1 1 1 0 1 1 1 1 0 0 1 1 0 1 0 1 1 1 0 1 1 0 1\n",
      " 1 1 1 0 1 1 0 1 1 1 1 1 1 0 0 0 1 0 0 0 1 1 1 0 1 1 1 1 1 1 1 1 0 0 0 1 1\n",
      " 1 1 1 0 1 0 1 1 1 1 1 1 1 1 1 0 0 0 0 1 1 0 0 1 0 0 0 0 1 0 1 0 0 1]\n"
     ]
    }
   ],
   "source": [
    "predictions =  logmodel.predict(X_test)\n",
    "print(predictions)"
   ]
  },
  {
   "cell_type": "code",
   "execution_count": 42,
   "metadata": {},
   "outputs": [
    {
     "name": "stdout",
     "output_type": "stream",
     "text": [
      "             precision    recall  f1-score   support\n",
      "\n",
      "          0       0.71      0.51      0.59       113\n",
      "          1       0.60      0.77      0.67       106\n",
      "\n",
      "avg / total       0.65      0.64      0.63       219\n",
      "\n",
      "confuison matrix\n",
      "[[58 55]\n",
      " [24 82]]\n"
     ]
    }
   ],
   "source": [
    "# printing predictions\n",
    "print(classification_report(y_test,predictions))\n",
    "print(\"confuison matrix\")\n",
    "print(confusion_matrix(y_test,predictions))"
   ]
  },
  {
   "cell_type": "code",
   "execution_count": 43,
   "metadata": {},
   "outputs": [
    {
     "data": {
      "image/png": "[encoded data removed]",
      "text/plain": [
       "<Figure size 432x288 with 1 Axes>"
      ]
     },
     "metadata": {
      "needs_background": "light"
     },
     "output_type": "display_data"
    }
   ],
   "source": [
    "# computing ROC curve\n",
    "fpr, tpr, _ = roc_curve(y_test,predictions)\n",
    "plt.clf()\n",
    "plt.plot(fpr,tpr)\n",
    "plt.show()"
   ]
  },
  {
   "cell_type": "code",
   "execution_count": 44,
   "metadata": {},
   "outputs": [
    {
     "data": {
      "text/plain": [
       "0.6434296209717817"
      ]
     },
     "execution_count": 44,
     "metadata": {},
     "output_type": "execute_result"
    }
   ],
   "source": [
    "# Roc curve score\n",
    "roc_auc_score(y_test,predictions)"
   ]
  },
  {
   "cell_type": "code",
   "execution_count": 45,
   "metadata": {},
   "outputs": [
    {
     "data": {
      "text/plain": [
       "0.6434296209717817"
      ]
     },
     "execution_count": 45,
     "metadata": {},
     "output_type": "execute_result"
    }
   ],
   "source": [
    "auc(fpr,tpr)"
   ]
  },
  {
   "cell_type": "code",
   "execution_count": 46,
   "metadata": {},
   "outputs": [
    {
     "data": {
      "text/plain": [
       "0.284284118644769"
      ]
     },
     "execution_count": 46,
     "metadata": {},
     "output_type": "execute_result"
    }
   ],
   "source": [
    "# model validation\n",
    "cohen_kappa_score(y_test, predictions)"
   ]
  },
  {
   "cell_type": "markdown",
   "metadata": {},
   "source": [
    "# Decision tree For Gender"
   ]
  },
  {
   "cell_type": "code",
   "execution_count": 47,
   "metadata": {},
   "outputs": [
    {
     "data": {
      "text/plain": [
       "DecisionTreeClassifier(class_weight=None, criterion='gini', max_depth=None,\n",
       "            max_features=None, max_leaf_nodes=None,\n",
       "            min_impurity_decrease=0.0, min_impurity_split=None,\n",
       "            min_samples_leaf=1, min_samples_split=2,\n",
       "            min_weight_fraction_leaf=0.0, presort=False, random_state=None,\n",
       "            splitter='best')"
      ]
     },
     "execution_count": 47,
     "metadata": {},
     "output_type": "execute_result"
    }
   ],
   "source": [
    "# Decision tree\n",
    "clf = tree.DecisionTreeClassifier()\n",
    "clf.fit(X_train,y_train)"
   ]
  },
  {
   "cell_type": "code",
   "execution_count": 48,
   "metadata": {},
   "outputs": [
    {
     "name": "stdout",
     "output_type": "stream",
     "text": [
      "             precision    recall  f1-score   support\n",
      "\n",
      "          0       0.61      0.42      0.49       113\n",
      "          1       0.54      0.72      0.61       106\n",
      "\n",
      "avg / total       0.57      0.56      0.55       219\n",
      "\n",
      "[[47 66]\n",
      " [30 76]]\n"
     ]
    }
   ],
   "source": [
    "Dpredict = clf.predict(X_test)\n",
    "print(classification_report(y_test,Dpredict))\n",
    "print(confusion_matrix(y_test,Dpredict))"
   ]
  },
  {
   "cell_type": "code",
   "execution_count": 49,
   "metadata": {},
   "outputs": [
    {
     "data": {
      "text/plain": [
       "0.13152676801057506"
      ]
     },
     "execution_count": 49,
     "metadata": {},
     "output_type": "execute_result"
    }
   ],
   "source": [
    "cohen_kappa_score(y_test,Dpredict)"
   ]
  },
  {
   "cell_type": "markdown",
   "metadata": {},
   "source": [
    "# Navie bisen for Gender"
   ]
  },
  {
   "cell_type": "code",
   "execution_count": 50,
   "metadata": {},
   "outputs": [
    {
     "data": {
      "text/plain": [
       "GaussianNB(priors=None)"
      ]
     },
     "execution_count": 50,
     "metadata": {},
     "output_type": "execute_result"
    }
   ],
   "source": [
    "from sklearn.naive_bayes import GaussianNB\n",
    "from sklearn.naive_bayes import MultinomialNB\n",
    "Naive_Gender = GaussianNB()\n",
    "# multiple variables\n",
    "multiNaive = MultinomialNB()\n",
    "Naive_Gender.fit(X_train, y_train)"
   ]
  },
  {
   "cell_type": "code",
   "execution_count": 53,
   "metadata": {},
   "outputs": [
    {
     "data": {
      "text/plain": [
       "array([1, 1, 1, 0, 0, 1, 1, 1, 0, 1, 0, 0, 1, 1, 0, 1, 0, 0, 0, 1, 1, 1,\n",
       "       1, 1, 1, 0, 1, 1, 0, 0, 0, 0, 1, 0, 1, 0, 1, 0, 1, 1, 1, 1, 1, 1,\n",
       "       1, 0, 1, 0, 0, 0, 1, 0, 1, 0, 1, 1, 0, 0, 1, 0, 0, 1, 1, 1, 0, 1,\n",
       "       1, 1, 1, 1, 1, 1, 1, 1, 0, 1, 0, 1, 1, 1, 0, 0, 1, 1, 1, 0, 1, 0,\n",
       "       1, 1, 1, 0, 0, 1, 1, 1, 1, 1, 1, 1, 1, 0, 1, 1, 1, 0, 0, 1, 0, 1,\n",
       "       1, 0, 1, 1, 1, 0, 1, 0, 1, 1, 1, 0, 1, 1, 1, 0, 1, 1, 0, 1, 1, 0,\n",
       "       1, 1, 0, 1, 1, 0, 1, 1, 1, 1, 1, 0, 1, 1, 0, 1, 1, 1, 1, 0, 1, 1,\n",
       "       1, 1, 1, 1, 1, 1, 1, 0, 0, 0, 1, 0, 1, 1, 1, 0, 1, 1, 1, 1, 1, 1,\n",
       "       1, 1, 1, 1, 0, 0, 0, 1, 1, 1, 1, 1, 0, 1, 0, 1, 1, 0, 1, 1, 1, 1,\n",
       "       0, 1, 1, 1, 0, 1, 1, 1, 1, 0, 1, 1, 1, 0, 0, 1, 0, 1, 0, 0, 1],\n",
       "      dtype=int64)"
      ]
     },
     "execution_count": 53,
     "metadata": {},
     "output_type": "execute_result"
    }
   ],
   "source": [
    "Npredict = Naive_Gender.predict(X_test)\n",
    "Npredict"
   ]
  },
  {
   "cell_type": "code",
   "execution_count": 54,
   "metadata": {},
   "outputs": [
    {
     "name": "stdout",
     "output_type": "stream",
     "text": [
      "             precision    recall  f1-score   support\n",
      "\n",
      "          0       0.70      0.44      0.54       113\n",
      "          1       0.57      0.80      0.67       106\n",
      "\n",
      "avg / total       0.64      0.62      0.60       219\n",
      "\n",
      "confuison matrix\n",
      "[[50 63]\n",
      " [21 85]]\n"
     ]
    }
   ],
   "source": [
    "# printing predictions\n",
    "print(classification_report(y_test,Npredict))\n",
    "print(\"confuison matrix\")\n",
    "print(confusion_matrix(y_test,Npredict))"
   ]
  },
  {
   "cell_type": "markdown",
   "metadata": {},
   "source": [
    "# KNN model for Gender"
   ]
  },
  {
   "cell_type": "code",
   "execution_count": 55,
   "metadata": {},
   "outputs": [],
   "source": [
    "from sklearn.neighbors import KNeighborsClassifier"
   ]
  },
  {
   "cell_type": "code",
   "execution_count": 56,
   "metadata": {},
   "outputs": [
    {
     "data": {
      "text/plain": [
       "KNeighborsClassifier(algorithm='auto', leaf_size=30, metric='minkowski',\n",
       "           metric_params=None, n_jobs=1, n_neighbors=1, p=2,\n",
       "           weights='uniform')"
      ]
     },
     "execution_count": 56,
     "metadata": {},
     "output_type": "execute_result"
    }
   ],
   "source": [
    "knn = KNeighborsClassifier(n_neighbors=1)\n",
    "knn.fit(X_train,y_train)"
   ]
  },
  {
   "cell_type": "code",
   "execution_count": 58,
   "metadata": {},
   "outputs": [
    {
     "data": {
      "text/plain": [
       "array([0, 0, 1, 1, 1, 0, 1, 1, 0, 1, 0, 0, 1, 1, 0, 0, 0, 1, 0, 0, 0, 1,\n",
       "       0, 1, 1, 1, 1, 1, 0, 1, 1, 1, 0, 0, 1, 1, 1, 0, 1, 0, 1, 1, 0, 1,\n",
       "       1, 0, 1, 1, 1, 0, 1, 0, 1, 1, 1, 0, 0, 1, 1, 0, 0, 0, 1, 1, 0, 1,\n",
       "       1, 1, 1, 1, 1, 0, 0, 1, 0, 1, 1, 1, 0, 1, 0, 1, 1, 1, 1, 0, 0, 1,\n",
       "       1, 1, 0, 0, 0, 1, 1, 1, 1, 0, 1, 1, 0, 1, 1, 1, 0, 1, 0, 1, 1, 1,\n",
       "       1, 0, 1, 0, 1, 1, 1, 1, 0, 0, 0, 0, 1, 1, 0, 0, 1, 1, 0, 0, 0, 1,\n",
       "       1, 1, 1, 0, 1, 0, 1, 0, 0, 1, 1, 0, 1, 1, 0, 0, 1, 1, 0, 1, 0, 1,\n",
       "       0, 1, 1, 0, 1, 0, 0, 1, 0, 1, 1, 1, 0, 1, 1, 1, 1, 0, 1, 0, 0, 1,\n",
       "       0, 0, 1, 1, 0, 1, 0, 1, 1, 1, 1, 1, 1, 1, 1, 1, 1, 1, 0, 1, 0, 1,\n",
       "       0, 0, 1, 1, 0, 1, 0, 1, 1, 0, 1, 1, 0, 0, 1, 0, 1, 0, 0, 0, 0],\n",
       "      dtype=int64)"
      ]
     },
     "execution_count": 58,
     "metadata": {},
     "output_type": "execute_result"
    }
   ],
   "source": [
    "knnpred = knn.predict(X_test)\n",
    "knnpred"
   ]
  },
  {
   "cell_type": "code",
   "execution_count": 59,
   "metadata": {},
   "outputs": [
    {
     "name": "stdout",
     "output_type": "stream",
     "text": [
      "             precision    recall  f1-score   support\n",
      "\n",
      "          0       0.60      0.47      0.52       113\n",
      "          1       0.54      0.66      0.59       106\n",
      "\n",
      "avg / total       0.57      0.56      0.56       219\n",
      "\n",
      "confuison matrix\n",
      "[[53 60]\n",
      " [36 70]]\n"
     ]
    }
   ],
   "source": [
    "# printing predictions\n",
    "print(classification_report(y_test,pred))\n",
    "print(\"confuison matrix\")\n",
    "print(confusion_matrix(y_test,pred))"
   ]
  },
  {
   "cell_type": "markdown",
   "metadata": {},
   "source": [
    "# Logistic model for Age"
   ]
  },
  {
   "cell_type": "code",
   "execution_count": 60,
   "metadata": {},
   "outputs": [],
   "source": [
    "Ec_Age = pd.concat([Ec_New,Ey_Data[['age group']]],axis=1)"
   ]
  },
  {
   "cell_type": "code",
   "execution_count": 61,
   "metadata": {},
   "outputs": [],
   "source": [
    "# Training and Testing\n",
    "X1= Ec_Age[['CBB_9','CBB_10','CBB_11','CBB_12','CBB_13','CBB_14','pc1','pc2','pc3','pc4','pc5','pc6','pc7','pc8','pc9','pc10','pc11','pc12','pc13','pc14','pc15']]\n",
    "y1=Ec_Age['age group']\n",
    "X1_train,X1_test,y1_train,y1_test =  train_test_split(X1,y1,test_size=0.3,random_state=101)"
   ]
  },
  {
   "cell_type": "code",
   "execution_count": 62,
   "metadata": {},
   "outputs": [
    {
     "data": {
      "text/plain": [
       "LogisticRegression(C=1.0, class_weight=None, dual=False, fit_intercept=True,\n",
       "          intercept_scaling=1, max_iter=100, multi_class='ovr', n_jobs=1,\n",
       "          penalty='l2', random_state=None, solver='liblinear', tol=0.0001,\n",
       "          verbose=0, warm_start=False)"
      ]
     },
     "execution_count": 62,
     "metadata": {},
     "output_type": "execute_result"
    }
   ],
   "source": [
    "# Bulding model\n",
    "logmodel = LogisticRegression()\n",
    "logmodel.fit(X1_train,y1_train)"
   ]
  },
  {
   "cell_type": "code",
   "execution_count": 63,
   "metadata": {},
   "outputs": [],
   "source": [
    "predictions =  logmodel.predict(X1_test)"
   ]
  },
  {
   "cell_type": "code",
   "execution_count": 64,
   "metadata": {},
   "outputs": [
    {
     "name": "stdout",
     "output_type": "stream",
     "text": [
      "             precision    recall  f1-score   support\n",
      "\n",
      "          0       0.67      0.28      0.39        43\n",
      "          1       0.62      0.64      0.63        72\n",
      "          2       0.72      0.94      0.82        50\n",
      "          3       0.76      0.94      0.84        50\n",
      "          4       0.00      0.00      0.00         4\n",
      "\n",
      "avg / total       0.67      0.69      0.66       219\n",
      "\n",
      "confuison matrix\n",
      "[[12 22  6  3  0]\n",
      " [ 6 46  9 11  0]\n",
      " [ 0  2 47  1  0]\n",
      " [ 0  3  0 47  0]\n",
      " [ 0  1  3  0  0]]\n"
     ]
    },
    {
     "name": "stderr",
     "output_type": "stream",
     "text": [
      "C:\\Users\\Dell 5370\\Anaconda3\\lib\\site-packages\\sklearn\\metrics\\classification.py:1135: UndefinedMetricWarning: Precision and F-score are ill-defined and being set to 0.0 in labels with no predicted samples.\n",
      "  'precision', 'predicted', average, warn_for)\n"
     ]
    }
   ],
   "source": [
    "# printing predictions\n",
    "print(classification_report(y1_test,predictions))\n",
    "print(\"confuison matrix\")\n",
    "print(confusion_matrix(y1_test,predictions))"
   ]
  },
  {
   "cell_type": "markdown",
   "metadata": {},
   "source": [
    "# Decision tree for Age"
   ]
  },
  {
   "cell_type": "code",
   "execution_count": 65,
   "metadata": {},
   "outputs": [
    {
     "data": {
      "text/plain": [
       "DecisionTreeClassifier(class_weight=None, criterion='gini', max_depth=None,\n",
       "            max_features=None, max_leaf_nodes=None,\n",
       "            min_impurity_decrease=0.0, min_impurity_split=None,\n",
       "            min_samples_leaf=1, min_samples_split=2,\n",
       "            min_weight_fraction_leaf=0.0, presort=False, random_state=None,\n",
       "            splitter='best')"
      ]
     },
     "execution_count": 65,
     "metadata": {},
     "output_type": "execute_result"
    }
   ],
   "source": [
    "# Decision tree\n",
    "clf = tree.DecisionTreeClassifier()\n",
    "clf.fit(X1_train,y1_train)"
   ]
  },
  {
   "cell_type": "code",
   "execution_count": 66,
   "metadata": {},
   "outputs": [
    {
     "name": "stdout",
     "output_type": "stream",
     "text": [
      "             precision    recall  f1-score   support\n",
      "\n",
      "          0       0.43      0.44      0.44        43\n",
      "          1       0.58      0.58      0.58        72\n",
      "          2       0.74      0.80      0.77        50\n",
      "          3       0.81      0.76      0.78        50\n",
      "          4       0.00      0.00      0.00         4\n",
      "\n",
      "avg / total       0.63      0.63      0.63       219\n",
      "\n",
      "confusion matrix\n",
      "[[19 19  3  2  0]\n",
      " [17 42  6  7  0]\n",
      " [ 3  7 40  0  0]\n",
      " [ 5  4  2 38  1]\n",
      " [ 0  1  3  0  0]]\n"
     ]
    }
   ],
   "source": [
    "Dpredict = clf.predict(X1_test)\n",
    "print(classification_report(y1_test,Dpredict))\n",
    "print(\"confusion matrix\")\n",
    "print(confusion_matrix(y1_test,Dpredict))"
   ]
  },
  {
   "cell_type": "markdown",
   "metadata": {},
   "source": [
    "# KNN model for Age"
   ]
  },
  {
   "cell_type": "code",
   "execution_count": 67,
   "metadata": {},
   "outputs": [
    {
     "data": {
      "text/plain": [
       "KNeighborsClassifier(algorithm='auto', leaf_size=30, metric='minkowski',\n",
       "           metric_params=None, n_jobs=1, n_neighbors=1, p=2,\n",
       "           weights='uniform')"
      ]
     },
     "execution_count": 67,
     "metadata": {},
     "output_type": "execute_result"
    }
   ],
   "source": [
    "knn = KNeighborsClassifier(n_neighbors=1)\n",
    "knn.fit(X1_train,y1_train)"
   ]
  },
  {
   "cell_type": "code",
   "execution_count": 68,
   "metadata": {},
   "outputs": [],
   "source": [
    "pred = knn.predict(X1_test)"
   ]
  },
  {
   "cell_type": "code",
   "execution_count": 69,
   "metadata": {},
   "outputs": [
    {
     "name": "stdout",
     "output_type": "stream",
     "text": [
      "             precision    recall  f1-score   support\n",
      "\n",
      "          0       0.44      0.37      0.41        43\n",
      "          1       0.53      0.67      0.59        72\n",
      "          2       0.71      0.72      0.71        50\n",
      "          3       0.80      0.64      0.71        50\n",
      "          4       0.00      0.00      0.00         4\n",
      "\n",
      "avg / total       0.61      0.60      0.60       219\n",
      "\n",
      "confuison matrix\n",
      "[[16 22  5  0  0]\n",
      " [11 48  6  7  0]\n",
      " [ 6  7 36  1  0]\n",
      " [ 3 11  2 32  2]\n",
      " [ 0  2  2  0  0]]\n"
     ]
    }
   ],
   "source": [
    "# printing predictions\n",
    "print(classification_report(y1_test,pred))\n",
    "print(\"confuison matrix\")\n",
    "print(confusion_matrix(y1_test,pred))"
   ]
  },
  {
   "cell_type": "markdown",
   "metadata": {},
   "source": [
    "# Navie bisen for Age - Not worked for Age"
   ]
  },
  {
   "cell_type": "markdown",
   "metadata": {},
   "source": [
    "# Marital status"
   ]
  },
  {
   "cell_type": "code",
   "execution_count": 73,
   "metadata": {},
   "outputs": [],
   "source": [
    "Ec_Marital = pd.concat([Ec_New,Ey_Data[['Marital status']]],axis=1)"
   ]
  },
  {
   "cell_type": "code",
   "execution_count": 74,
   "metadata": {},
   "outputs": [],
   "source": [
    "Xm= Ec_Marital[['CBB_9','CBB_10','CBB_11','CBB_12','CBB_13','CBB_14','pc1','pc2','pc3','pc4','pc5','pc6','pc7','pc8','pc9','pc10','pc11','pc12','pc13','pc14','pc15']]\n",
    "ym=Ec_Marital['Marital status']\n",
    "Xm_train,Xm_test,ym_train,ym_test =  train_test_split(Xm,ym,test_size=0.3,random_state=101)"
   ]
  },
  {
   "cell_type": "markdown",
   "metadata": {},
   "source": [
    "# logistic Model"
   ]
  },
  {
   "cell_type": "code",
   "execution_count": 75,
   "metadata": {},
   "outputs": [
    {
     "data": {
      "text/plain": [
       "LogisticRegression(C=1.0, class_weight=None, dual=False, fit_intercept=True,\n",
       "          intercept_scaling=1, max_iter=100, multi_class='ovr', n_jobs=1,\n",
       "          penalty='l2', random_state=None, solver='liblinear', tol=0.0001,\n",
       "          verbose=0, warm_start=False)"
      ]
     },
     "execution_count": 75,
     "metadata": {},
     "output_type": "execute_result"
    }
   ],
   "source": [
    "logmodel = LogisticRegression()\n",
    "logmodel.fit(Xm_train,ym_train)"
   ]
  },
  {
   "cell_type": "code",
   "execution_count": 77,
   "metadata": {},
   "outputs": [
    {
     "data": {
      "text/plain": [
       "array([0, 0, 0, 0, 1, 1, 1, 0, 1, 0, 0, 1, 0, 1, 1, 0, 1, 1, 0, 0, 0, 0,\n",
       "       0, 0, 0, 1, 0, 0, 1, 1, 1, 1, 0, 1, 0, 1, 0, 1, 0, 0, 0, 1, 0, 0,\n",
       "       0, 0, 1, 1, 0, 1, 1, 0, 0, 1, 0, 0, 1, 1, 0, 0, 0, 0, 0, 0, 0, 0,\n",
       "       0, 1, 0, 0, 1, 0, 0, 0, 1, 0, 1, 1, 1, 0, 0, 1, 0, 1, 0, 1, 0, 1,\n",
       "       0, 0, 0, 1, 1, 0, 1, 0, 0, 0, 0, 0, 0, 1, 1, 0, 0, 1, 1, 1, 1, 0,\n",
       "       0, 0, 1, 0, 0, 1, 0, 0, 1, 0, 1, 0, 0, 0, 1, 0, 1, 0, 0, 0, 1, 1,\n",
       "       1, 0, 1, 0, 0, 1, 0, 0, 0, 0, 1, 0, 1, 0, 1, 0, 0, 0, 0, 1, 1, 0,\n",
       "       0, 0, 1, 0, 0, 1, 0, 1, 1, 0, 0, 1, 0, 0, 0, 0, 0, 1, 0, 0, 0, 0,\n",
       "       0, 0, 0, 1, 1, 1, 1, 0, 1, 0, 1, 1, 1, 0, 0, 0, 0, 0, 0, 0, 0, 0,\n",
       "       0, 1, 0, 0, 1, 0, 0, 0, 0, 1, 0, 0, 0, 1, 1, 1, 1, 0, 1, 1, 0],\n",
       "      dtype=int64)"
      ]
     },
     "execution_count": 77,
     "metadata": {},
     "output_type": "execute_result"
    }
   ],
   "source": [
    "predictions =  logmodel.predict(Xm_test)\n",
    "predictions"
   ]
  },
  {
   "cell_type": "code",
   "execution_count": 78,
   "metadata": {},
   "outputs": [
    {
     "name": "stdout",
     "output_type": "stream",
     "text": [
      "             precision    recall  f1-score   support\n",
      "\n",
      "          0       0.76      0.76      0.76       135\n",
      "          1       0.61      0.61      0.61        84\n",
      "\n",
      "avg / total       0.70      0.70      0.70       219\n",
      "\n",
      "confuison matrix\n",
      "[[103  32]\n",
      " [ 33  51]]\n"
     ]
    }
   ],
   "source": [
    "print(classification_report(ym_test,predictions))\n",
    "print(\"confuison matrix\")\n",
    "print(confusion_matrix(ym_test,predictions))"
   ]
  },
  {
   "cell_type": "markdown",
   "metadata": {},
   "source": [
    "# Decision Tree Martial status"
   ]
  },
  {
   "cell_type": "code",
   "execution_count": 79,
   "metadata": {},
   "outputs": [
    {
     "data": {
      "text/plain": [
       "DecisionTreeClassifier(class_weight=None, criterion='gini', max_depth=None,\n",
       "            max_features=None, max_leaf_nodes=None,\n",
       "            min_impurity_decrease=0.0, min_impurity_split=None,\n",
       "            min_samples_leaf=1, min_samples_split=2,\n",
       "            min_weight_fraction_leaf=0.0, presort=False, random_state=None,\n",
       "            splitter='best')"
      ]
     },
     "execution_count": 79,
     "metadata": {},
     "output_type": "execute_result"
    }
   ],
   "source": [
    "#  Decision tree\n",
    "clf = tree.DecisionTreeClassifier()\n",
    "clf.fit(Xm_train,ym_train)\n"
   ]
  },
  {
   "cell_type": "code",
   "execution_count": 82,
   "metadata": {},
   "outputs": [
    {
     "data": {
      "text/plain": [
       "array([1, 0, 1, 0, 1, 1, 0, 0, 1, 1, 0, 0, 0, 0, 1, 1, 0, 1, 1, 0, 1, 1,\n",
       "       0, 1, 0, 1, 0, 0, 0, 1, 0, 1, 1, 0, 0, 0, 0, 1, 0, 1, 0, 1, 1, 0,\n",
       "       1, 0, 0, 1, 0, 0, 0, 0, 0, 1, 0, 0, 1, 1, 0, 0, 1, 0, 1, 0, 0, 0,\n",
       "       1, 0, 0, 1, 1, 0, 0, 0, 1, 0, 0, 0, 1, 1, 0, 1, 0, 1, 1, 1, 0, 0,\n",
       "       0, 0, 0, 1, 0, 1, 0, 0, 1, 1, 0, 0, 0, 1, 0, 0, 0, 1, 1, 0, 1, 0,\n",
       "       0, 1, 0, 1, 0, 1, 0, 0, 0, 1, 0, 0, 0, 0, 0, 1, 1, 1, 0, 0, 1, 1,\n",
       "       0, 0, 1, 0, 0, 1, 0, 0, 0, 0, 0, 0, 1, 1, 1, 0, 0, 1, 1, 1, 0, 1,\n",
       "       1, 1, 0, 0, 0, 0, 0, 1, 0, 0, 0, 1, 0, 0, 0, 0, 1, 0, 0, 1, 0, 0,\n",
       "       1, 0, 0, 0, 1, 1, 0, 0, 0, 0, 1, 1, 1, 1, 0, 0, 0, 0, 1, 0, 0, 1,\n",
       "       1, 1, 0, 1, 1, 1, 0, 0, 0, 1, 0, 0, 0, 1, 1, 1, 1, 0, 0, 1, 1],\n",
       "      dtype=int64)"
      ]
     },
     "execution_count": 82,
     "metadata": {},
     "output_type": "execute_result"
    }
   ],
   "source": [
    "clfpre =  clf.predict(Xm_test)\n",
    "clfpre"
   ]
  },
  {
   "cell_type": "code",
   "execution_count": 80,
   "metadata": {},
   "outputs": [
    {
     "name": "stdout",
     "output_type": "stream",
     "text": [
      "             precision    recall  f1-score   support\n",
      "\n",
      "          0       0.70      0.66      0.68       135\n",
      "          1       0.49      0.54      0.51        84\n",
      "\n",
      "avg / total       0.62      0.61      0.61       219\n",
      "\n",
      "confusion matrix\n",
      "[[89 46]\n",
      " [39 45]]\n"
     ]
    }
   ],
   "source": [
    "Dpredict = clf.predict(Xm_test)\n",
    "print(classification_report(ym_test,Dpredict))\n",
    "print(\"confusion matrix\")\n",
    "print(confusion_matrix(ym_test,Dpredict))"
   ]
  },
  {
   "cell_type": "code",
   "execution_count": 83,
   "metadata": {},
   "outputs": [
    {
     "data": {
      "text/plain": [
       "array([1, 0, 1, 0, 1, 1, 0, 0, 1, 1, 0, 0, 0, 0, 1, 1, 0, 1, 1, 0, 1, 1,\n",
       "       0, 1, 0, 1, 0, 0, 0, 1, 0, 1, 1, 0, 0, 0, 0, 1, 0, 1, 0, 1, 1, 0,\n",
       "       1, 0, 0, 1, 0, 0, 0, 0, 0, 1, 0, 0, 1, 1, 0, 0, 1, 0, 1, 0, 0, 0,\n",
       "       1, 0, 0, 1, 1, 0, 0, 0, 1, 0, 0, 0, 1, 1, 0, 1, 0, 1, 1, 1, 0, 0,\n",
       "       0, 0, 0, 1, 0, 1, 0, 0, 1, 1, 0, 0, 0, 1, 0, 0, 0, 1, 1, 0, 1, 0,\n",
       "       0, 1, 0, 1, 0, 1, 0, 0, 0, 1, 0, 0, 0, 0, 0, 1, 1, 1, 0, 0, 1, 1,\n",
       "       0, 0, 1, 0, 0, 1, 0, 0, 0, 0, 0, 0, 1, 1, 1, 0, 0, 1, 1, 1, 0, 1,\n",
       "       1, 1, 0, 0, 0, 0, 0, 1, 0, 0, 0, 1, 0, 0, 0, 0, 1, 0, 0, 1, 0, 0,\n",
       "       1, 0, 0, 0, 1, 1, 0, 0, 0, 0, 1, 1, 1, 1, 0, 0, 0, 0, 1, 0, 0, 1,\n",
       "       1, 1, 0, 1, 1, 1, 0, 0, 0, 1, 0, 0, 0, 1, 1, 1, 1, 0, 0, 1, 1],\n",
       "      dtype=int64)"
      ]
     },
     "execution_count": 83,
     "metadata": {},
     "output_type": "execute_result"
    }
   ],
   "source": [
    "Dpredict = clf.predict(Xm_test)\n",
    "Dpredict"
   ]
  },
  {
   "cell_type": "markdown",
   "metadata": {},
   "source": [
    "# KNN model for Martial status"
   ]
  },
  {
   "cell_type": "code",
   "execution_count": null,
   "metadata": {},
   "outputs": [],
   "source": [
    "# Knn model\n",
    "knn = KNeighborsClassifier(n_neighbors=1)\n",
    "knn.fit(Xm_train,ym_train)"
   ]
  },
  {
   "cell_type": "code",
   "execution_count": null,
   "metadata": {},
   "outputs": [],
   "source": [
    "pred = knn.predict(Xm_test)"
   ]
  },
  {
   "cell_type": "code",
   "execution_count": null,
   "metadata": {
    "scrolled": true
   },
   "outputs": [],
   "source": [
    "# printing predictions\n",
    "print(classification_report(ym_test,pred))\n",
    "print(\"confuison matrix\")\n",
    "print(confusion_matrix(ym_test,pred))"
   ]
  },
  {
   "cell_type": "markdown",
   "metadata": {},
   "source": [
    "# Navie bisen for Martial Status"
   ]
  },
  {
   "cell_type": "code",
   "execution_count": null,
   "metadata": {},
   "outputs": [],
   "source": [
    "Naive_NB = GaussianNB()\n",
    "#multiNaive = MultinomialNB()\n",
    "Naive_NB.fit(Xm_train, ym_train)"
   ]
  },
  {
   "cell_type": "code",
   "execution_count": null,
   "metadata": {},
   "outputs": [],
   "source": [
    "Npredict = Naive_NB.predict(Xm_test)"
   ]
  },
  {
   "cell_type": "code",
   "execution_count": null,
   "metadata": {},
   "outputs": [],
   "source": [
    "print(classification_report(ym_test,Npredict))\n",
    "print(\"confuison matrix\")\n",
    "print(confusion_matrix(ym_test,Npredict))"
   ]
  },
  {
   "cell_type": "markdown",
   "metadata": {},
   "source": [
    "# Area Model"
   ]
  },
  {
   "cell_type": "code",
   "execution_count": null,
   "metadata": {},
   "outputs": [],
   "source": [
    "Ec_Area = pd.concat([Ec_New,Ey_Data[['Area']]],axis=1)"
   ]
  },
  {
   "cell_type": "code",
   "execution_count": null,
   "metadata": {},
   "outputs": [],
   "source": [
    "Xa= Ec_Area[['CBB_9','CBB_10','CBB_11','CBB_12','CBB_13','CBB_14','pc1','pc2','pc3','pc4','pc5','pc6','pc7','pc8','pc9','pc10','pc11','pc12','pc13','pc14','pc15']]\n",
    "ya=Ec_Area['Area']\n",
    "Xa_train,Xa_test,ya_train,ya_test =  train_test_split(Xa,ya,test_size=0.3,random_state=101)"
   ]
  },
  {
   "cell_type": "code",
   "execution_count": null,
   "metadata": {},
   "outputs": [],
   "source": [
    "logmodel = LogisticRegression()\n",
    "logmodel.fit(Xa_train,ya_train)"
   ]
  },
  {
   "cell_type": "code",
   "execution_count": null,
   "metadata": {},
   "outputs": [],
   "source": [
    "predictions =  logmodel.predict(Xa_test)"
   ]
  },
  {
   "cell_type": "code",
   "execution_count": null,
   "metadata": {},
   "outputs": [],
   "source": [
    "print(classification_report(ya_test,predictions))\n",
    "print(\"confuison matrix\")\n",
    "print(confusion_matrix(ya_test,predictions))"
   ]
  },
  {
   "cell_type": "code",
   "execution_count": null,
   "metadata": {},
   "outputs": [],
   "source": [
    "Ec_Area['Area'].tail()\n",
    "\n"
   ]
  },
  {
   "cell_type": "code",
   "execution_count": null,
   "metadata": {},
   "outputs": [],
   "source": [
    "fat.sample(5)\n"
   ]
  },
  {
   "cell_type": "code",
   "execution_count": null,
   "metadata": {},
   "outputs": [],
   "source": []
  },
  {
   "cell_type": "code",
   "execution_count": null,
   "metadata": {},
   "outputs": [],
   "source": []
  },
  {
   "cell_type": "code",
   "execution_count": null,
   "metadata": {},
   "outputs": [],
   "source": []
  },
  {
   "cell_type": "code",
   "execution_count": null,
   "metadata": {},
   "outputs": [],
   "source": []
  },
  {
   "cell_type": "code",
   "execution_count": null,
   "metadata": {},
   "outputs": [],
   "source": []
  },
  {
   "cell_type": "code",
   "execution_count": null,
   "metadata": {},
   "outputs": [],
   "source": []
  },
  {
   "cell_type": "code",
   "execution_count": null,
   "metadata": {},
   "outputs": [],
   "source": []
  }
 ],
 "metadata": {
  "kernelspec": {
   "display_name": "Python 3",
   "language": "python",
   "name": "python3"
  },
  "language_info": {
   "codemirror_mode": {
    "name": "ipython",
    "version": 3
   },
   "file_extension": ".py",
   "mimetype": "text/x-python",
   "name": "python",
   "nbconvert_exporter": "python",
   "pygments_lexer": "ipython3",
   "version": "3.7.0"
  }
 },
 "nbformat": 4,
 "nbformat_minor": 2
}
